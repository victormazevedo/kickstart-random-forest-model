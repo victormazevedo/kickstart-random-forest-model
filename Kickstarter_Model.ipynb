{
  "nbformat": 4,
  "nbformat_minor": 0,
  "metadata": {
    "colab": {
      "name": "Kickstarter_Model.ipynb",
      "version": "0.3.2",
      "provenance": [],
      "collapsed_sections": [],
      "toc_visible": true,
      "include_colab_link": true
    },
    "kernelspec": {
      "name": "python3",
      "display_name": "Python 3"
    }
  },
  "cells": [
    {
      "cell_type": "markdown",
      "metadata": {
        "id": "view-in-github",
        "colab_type": "text"
      },
      "source": [
        "<a href=\"https://colab.research.google.com/github/victormazevedo/kickstart-random-forest-model/blob/master/Kickstarter_Model.ipynb\" target=\"_parent\"><img src=\"https://colab.research.google.com/assets/colab-badge.svg\" alt=\"Open In Colab\"/></a>"
      ]
    },
    {
      "cell_type": "markdown",
      "metadata": {
        "id": "JvQHADu6mL9v",
        "colab_type": "text"
      },
      "source": [
        "![Kickstarter](https://nomadicdivision.org/wp-content/uploads/2015/01/kickstarter-logo-light-e1426121148157.jpg)\n",
        "\n",
        "![alt text](http://www.fatecrp.edu.br/wp-content/themes/fatecrp/dist/img/logo.png)\n",
        "\n",
        "\n",
        "Este projeto é destinado à disciplina de Inteligência Artificial, ministrada pelo docente Lucas Figueira Baggio. O objetivo deste projeto é realizar uma análise dos dados e, consequentemente, construir um modelo de classificação para predizer se um projeto terá sucesso ou não baseado em seus dados históricos. Será utilizado *Random Forest* com base em seu *dataset* obtido do [Kaggle](https://www.kaggle.com/kemical/kickstarter-projects).\n",
        "\n",
        "*Kickstarter* é a maior plataforma de financiamento coletivo do mundo que está sempre buscando apoiar projetos inovadores e independentes, podendo assim empoderar pequenos, mas criativos, desenvolvedores, artistas e músicos.\n",
        "\n",
        "Neste notebook, será abordado técninas de *data transformation* utilizando *Pandas*, plotagem de gráficos e dados estatísticos utilizando *Seaborn* e *Matplotlib* respectivamente, e também como utilizar o *scikit-learn* para aplicar o modelo de *Random Forest*. Também será feita uma rápida abordagem de *encondings* para dados categóricos."
      ]
    },
    {
      "cell_type": "markdown",
      "metadata": {
        "id": "-r-Un-SVDqVQ",
        "colab_type": "text"
      },
      "source": [
        "# Importando as blibliotecas necessárias\n",
        "\n",
        "É necessário fazer o *import* do:\n",
        "\n",
        "*   [Pandas](https://pandas.pydata.org/) para manipulação dos dados;\n",
        "*   [Matplotlib](https://matplotlib.org/) para a plotagem de gráficos;\n",
        "*   [Seaborn](https://seaborn.pydata.org/) para a plotagem de dados estatísticos;\n",
        "*   [scikit-learn](https://scikit-learn.org/stable/) para implementar algoritmos de *machine learning*. Neste caso, mais precisamente um [RandomForestClassifier](https://scikit-learn.org/stable/modules/generated/sklearn.ensemble.RandomForestClassifier.html#sklearn.ensemble.RandomForestClassifier);\n",
        "\n",
        "\n",
        "\n",
        "\n"
      ]
    },
    {
      "cell_type": "code",
      "metadata": {
        "id": "FLqU7V9BiHJz",
        "colab_type": "code",
        "colab": {}
      },
      "source": [
        "import pandas as pd\n",
        "import matplotlib.pyplot as plt\n",
        "import seaborn as sns\n",
        "from sklearn.ensemble import RandomForestClassifier\n",
        "from sklearn.model_selection import train_test_split\n",
        "from sklearn.preprocessing import LabelEncoder\n",
        "from sklearn.metrics import confusion_matrix, classification_report\n",
        "import time"
      ],
      "execution_count": 0,
      "outputs": []
    },
    {
      "cell_type": "markdown",
      "metadata": {
        "id": "1pjpvUa2Dutw",
        "colab_type": "text"
      },
      "source": [
        "# Primeiro passo\n",
        "Primeiramente, é necessário realizar o *upload* do arquivo .csv referente ao *dataset* que será utilizado. Neste projeto, será utilizado um *dataset* proveniente do *Kaggle* no qual contém as informações de mais de 300000 projetos do ano de 2018 do *Kickstarter*. Após o arquivo em mãos, realizar o *upload* do mesmo no *Dropbox*, porém atentar-se ao compartilhamento público!\n",
        "\n",
        "Após o passo acima, realize uma conexão via *!wget*  ao *Dropbox* inserindo o link gerado no *Dropbox*.\n",
        "\n",
        "Feito isso, criei uma variável de nome *df* e nela utilizei o recurso do *Pandas* para a leitura de um arquivo .csv. Dentro do mesmo inseri o nome do csv desejado."
      ]
    },
    {
      "cell_type": "code",
      "metadata": {
        "id": "Iyj4ZUE3DTmu",
        "colab_type": "code",
        "outputId": "25ac055b-58e7-48e2-ed35-6151f7614089",
        "colab": {
          "base_uri": "https://localhost:8080/",
          "height": 377
        }
      },
      "source": [
        "!wget 'https://www.dropbox.com/s/g6qtxm3va3h50pi/ks-projects-201801.csv?dl=0'\n",
        "df = pd.read_csv('ks-projects-201801.csv?dl=0')"
      ],
      "execution_count": 0,
      "outputs": [
        {
          "output_type": "stream",
          "text": [
            "--2019-06-11 19:54:27--  https://www.dropbox.com/s/g6qtxm3va3h50pi/ks-projects-201801.csv?dl=0\n",
            "Resolving www.dropbox.com (www.dropbox.com)... 162.125.1.1, 2620:100:6016:1::a27d:101\n",
            "Connecting to www.dropbox.com (www.dropbox.com)|162.125.1.1|:443... connected.\n",
            "HTTP request sent, awaiting response... 301 Moved Permanently\n",
            "Location: /s/raw/g6qtxm3va3h50pi/ks-projects-201801.csv [following]\n",
            "--2019-06-11 19:54:27--  https://www.dropbox.com/s/raw/g6qtxm3va3h50pi/ks-projects-201801.csv\n",
            "Reusing existing connection to www.dropbox.com:443.\n",
            "HTTP request sent, awaiting response... 302 Found\n",
            "Location: https://ucb79827396f1e9bb6375506e147.dl.dropboxusercontent.com/cd/0/inline/Aiq61XoJ4Fm3w5y7DJwltMCKqKcVWBBWnpUuOg_yUVPI8erJJ5czUsAswoFaDQH5K8uWrM9oqvU-_fiQ1zQokBwCRP_RqAr5tKgNkPa-zhrY8w/file# [following]\n",
            "--2019-06-11 19:54:27--  https://ucb79827396f1e9bb6375506e147.dl.dropboxusercontent.com/cd/0/inline/Aiq61XoJ4Fm3w5y7DJwltMCKqKcVWBBWnpUuOg_yUVPI8erJJ5czUsAswoFaDQH5K8uWrM9oqvU-_fiQ1zQokBwCRP_RqAr5tKgNkPa-zhrY8w/file\n",
            "Resolving ucb79827396f1e9bb6375506e147.dl.dropboxusercontent.com (ucb79827396f1e9bb6375506e147.dl.dropboxusercontent.com)... 162.125.1.6, 2620:100:6016:6::a27d:106\n",
            "Connecting to ucb79827396f1e9bb6375506e147.dl.dropboxusercontent.com (ucb79827396f1e9bb6375506e147.dl.dropboxusercontent.com)|162.125.1.6|:443... connected.\n",
            "HTTP request sent, awaiting response... 200 OK\n",
            "Length: 58030359 (55M) [text/plain]\n",
            "Saving to: ‘ks-projects-201801.csv?dl=0’\n",
            "\n",
            "ks-projects-201801. 100%[===================>]  55.34M  56.9MB/s    in 1.0s    \n",
            "\n",
            "2019-06-11 19:54:28 (56.9 MB/s) - ‘ks-projects-201801.csv?dl=0’ saved [58030359/58030359]\n",
            "\n"
          ],
          "name": "stdout"
        }
      ]
    },
    {
      "cell_type": "markdown",
      "metadata": {
        "id": "W9nWYdCYXh3-",
        "colab_type": "text"
      },
      "source": [
        "# Verificando o dataset e seus atributos\n",
        "\n",
        "Realizando um *head()* para nos mostrar as cinco primeiras linhas do dataset e observar suar variáveis e dados."
      ]
    },
    {
      "cell_type": "code",
      "metadata": {
        "id": "IHzwKVaXl3q_",
        "colab_type": "code",
        "outputId": "e19da5e9-e5a5-454d-8877-87b06c9b6fe3",
        "colab": {
          "base_uri": "https://localhost:8080/",
          "height": 340
        }
      },
      "source": [
        "df.head()"
      ],
      "execution_count": 0,
      "outputs": [
        {
          "output_type": "execute_result",
          "data": {
            "text/html": [
              "<div>\n",
              "<style scoped>\n",
              "    .dataframe tbody tr th:only-of-type {\n",
              "        vertical-align: middle;\n",
              "    }\n",
              "\n",
              "    .dataframe tbody tr th {\n",
              "        vertical-align: top;\n",
              "    }\n",
              "\n",
              "    .dataframe thead th {\n",
              "        text-align: right;\n",
              "    }\n",
              "</style>\n",
              "<table border=\"1\" class=\"dataframe\">\n",
              "  <thead>\n",
              "    <tr style=\"text-align: right;\">\n",
              "      <th></th>\n",
              "      <th>ID</th>\n",
              "      <th>name</th>\n",
              "      <th>category</th>\n",
              "      <th>main_category</th>\n",
              "      <th>currency</th>\n",
              "      <th>deadline</th>\n",
              "      <th>goal</th>\n",
              "      <th>launched</th>\n",
              "      <th>pledged</th>\n",
              "      <th>state</th>\n",
              "      <th>backers</th>\n",
              "      <th>country</th>\n",
              "      <th>usd pledged</th>\n",
              "      <th>usd_pledged_real</th>\n",
              "      <th>usd_goal_real</th>\n",
              "    </tr>\n",
              "  </thead>\n",
              "  <tbody>\n",
              "    <tr>\n",
              "      <th>0</th>\n",
              "      <td>1000002330</td>\n",
              "      <td>The Songs of Adelaide &amp; Abullah</td>\n",
              "      <td>Poetry</td>\n",
              "      <td>Publishing</td>\n",
              "      <td>GBP</td>\n",
              "      <td>2015-10-09</td>\n",
              "      <td>1000.0</td>\n",
              "      <td>2015-08-11 12:12:28</td>\n",
              "      <td>0.0</td>\n",
              "      <td>failed</td>\n",
              "      <td>0</td>\n",
              "      <td>GB</td>\n",
              "      <td>0.0</td>\n",
              "      <td>0.0</td>\n",
              "      <td>1533.95</td>\n",
              "    </tr>\n",
              "    <tr>\n",
              "      <th>1</th>\n",
              "      <td>1000003930</td>\n",
              "      <td>Greeting From Earth: ZGAC Arts Capsule For ET</td>\n",
              "      <td>Narrative Film</td>\n",
              "      <td>Film &amp; Video</td>\n",
              "      <td>USD</td>\n",
              "      <td>2017-11-01</td>\n",
              "      <td>30000.0</td>\n",
              "      <td>2017-09-02 04:43:57</td>\n",
              "      <td>2421.0</td>\n",
              "      <td>failed</td>\n",
              "      <td>15</td>\n",
              "      <td>US</td>\n",
              "      <td>100.0</td>\n",
              "      <td>2421.0</td>\n",
              "      <td>30000.00</td>\n",
              "    </tr>\n",
              "    <tr>\n",
              "      <th>2</th>\n",
              "      <td>1000004038</td>\n",
              "      <td>Where is Hank?</td>\n",
              "      <td>Narrative Film</td>\n",
              "      <td>Film &amp; Video</td>\n",
              "      <td>USD</td>\n",
              "      <td>2013-02-26</td>\n",
              "      <td>45000.0</td>\n",
              "      <td>2013-01-12 00:20:50</td>\n",
              "      <td>220.0</td>\n",
              "      <td>failed</td>\n",
              "      <td>3</td>\n",
              "      <td>US</td>\n",
              "      <td>220.0</td>\n",
              "      <td>220.0</td>\n",
              "      <td>45000.00</td>\n",
              "    </tr>\n",
              "    <tr>\n",
              "      <th>3</th>\n",
              "      <td>1000007540</td>\n",
              "      <td>ToshiCapital Rekordz Needs Help to Complete Album</td>\n",
              "      <td>Music</td>\n",
              "      <td>Music</td>\n",
              "      <td>USD</td>\n",
              "      <td>2012-04-16</td>\n",
              "      <td>5000.0</td>\n",
              "      <td>2012-03-17 03:24:11</td>\n",
              "      <td>1.0</td>\n",
              "      <td>failed</td>\n",
              "      <td>1</td>\n",
              "      <td>US</td>\n",
              "      <td>1.0</td>\n",
              "      <td>1.0</td>\n",
              "      <td>5000.00</td>\n",
              "    </tr>\n",
              "    <tr>\n",
              "      <th>4</th>\n",
              "      <td>1000011046</td>\n",
              "      <td>Community Film Project: The Art of Neighborhoo...</td>\n",
              "      <td>Film &amp; Video</td>\n",
              "      <td>Film &amp; Video</td>\n",
              "      <td>USD</td>\n",
              "      <td>2015-08-29</td>\n",
              "      <td>19500.0</td>\n",
              "      <td>2015-07-04 08:35:03</td>\n",
              "      <td>1283.0</td>\n",
              "      <td>canceled</td>\n",
              "      <td>14</td>\n",
              "      <td>US</td>\n",
              "      <td>1283.0</td>\n",
              "      <td>1283.0</td>\n",
              "      <td>19500.00</td>\n",
              "    </tr>\n",
              "  </tbody>\n",
              "</table>\n",
              "</div>"
            ],
            "text/plain": [
              "           ID  ... usd_goal_real\n",
              "0  1000002330  ...       1533.95\n",
              "1  1000003930  ...      30000.00\n",
              "2  1000004038  ...      45000.00\n",
              "3  1000007540  ...       5000.00\n",
              "4  1000011046  ...      19500.00\n",
              "\n",
              "[5 rows x 15 columns]"
            ]
          },
          "metadata": {
            "tags": []
          },
          "execution_count": 3
        }
      ]
    },
    {
      "cell_type": "markdown",
      "metadata": {
        "id": "Rb-r3GmVf-Dw",
        "colab_type": "text"
      },
      "source": [
        "# Explicando cada coluna e seus devidos dados\n",
        "\n",
        "Executando o *info*, perecebe-se que o dataset contém um total de 378661 linhas divididas em 15 colunas. Cada coluna representa um tipo de informação:\n",
        "\n",
        "*   **ID:** é o número de identificação interno gerado na *Kickstarter*;\n",
        "*   **name:** nome do projeto. O projeto nada mais é do que um trabalho que tem um fim e um determinado objetivo ( *goal*) a ser atingido. Pode ser fotografias, albuns musicais, vídeos, etc.;\n",
        "*   **category:** neste *datset* a categoria se corresponde como uma sub-categoria das categorias principais. Por exemplo: tem-se a categoria *Film & Video* e dentro dela uma subcategoria *Documentary*;\n",
        "*   **main_category:** é a categoria principal do projeto;\n",
        "*   **currency:** é a moeda usada para apoiar o projeto;\n",
        "*   **deadline:** é o prazo final de arrecadação de apoio ao projeot *crowdfunding*;\n",
        "*   **goal:** o *goal* nada mais é que o objetivo monetário do projeto para o criador concluí-lo;\n",
        "*   **launched:** data em que as arrecadações começaram;\n",
        "*   **pledged:** valor arrecadado na moeda do projeto;\n",
        "*   **state:** status do projeto;\n",
        "*   **backers:** número de apoiadores;\n",
        "*   **country:** o país do criador;\n",
        "*   **usd pledged:** valor arrecadado em dólares (conversão realizada pelo *Kickstarter*);\n",
        "*   **usd_pledged_real:** valor arrecadado em dólares convertido utilizando [Fixer API](https://fixer.io/);\n",
        "*   **usd_goal_real:** a meta de arrecadação convertida em dólar;\n",
        "\n",
        "\n",
        "\n",
        "\n",
        "\n",
        "\n"
      ]
    },
    {
      "cell_type": "code",
      "metadata": {
        "id": "jO_XlNObf2MI",
        "colab_type": "code",
        "outputId": "b6c4038f-e14f-43ed-8de3-fdca9fd392ec",
        "colab": {
          "base_uri": "https://localhost:8080/",
          "height": 374
        }
      },
      "source": [
        "print(df.info())"
      ],
      "execution_count": 0,
      "outputs": [
        {
          "output_type": "stream",
          "text": [
            "<class 'pandas.core.frame.DataFrame'>\n",
            "RangeIndex: 378661 entries, 0 to 378660\n",
            "Data columns (total 15 columns):\n",
            "ID                  378661 non-null int64\n",
            "name                378657 non-null object\n",
            "category            378661 non-null object\n",
            "main_category       378661 non-null object\n",
            "currency            378661 non-null object\n",
            "deadline            378661 non-null object\n",
            "goal                378661 non-null float64\n",
            "launched            378661 non-null object\n",
            "pledged             378661 non-null float64\n",
            "state               378661 non-null object\n",
            "backers             378661 non-null int64\n",
            "country             378661 non-null object\n",
            "usd pledged         374864 non-null float64\n",
            "usd_pledged_real    378661 non-null float64\n",
            "usd_goal_real       378661 non-null float64\n",
            "dtypes: float64(5), int64(2), object(8)\n",
            "memory usage: 43.3+ MB\n",
            "None\n"
          ],
          "name": "stdout"
        }
      ]
    },
    {
      "cell_type": "markdown",
      "metadata": {
        "id": "A4b7hCVA-PFk",
        "colab_type": "text"
      },
      "source": [
        "# Gráfico Distribuição de Status dos Projetos\n",
        "\n",
        "Realizando a plotagem do gráfico em pizza, verifica-se que de todos os projetos, 52.2% falham e 35.4% conseguem sucesso.\n",
        "\n",
        "Demais informações dos outros status abaixo.\n",
        "\n",
        "Todos os gráficos do projeto foram realizados utilizando *matplotlib*"
      ]
    },
    {
      "cell_type": "code",
      "metadata": {
        "id": "A6ZdhKzCqGfh",
        "colab_type": "code",
        "outputId": "372df905-1bce-4892-9c83-ce9eb0d59e48",
        "colab": {
          "base_uri": "https://localhost:8080/",
          "height": 364
        }
      },
      "source": [
        "fig, ax = plt.subplots(1, 1, dpi=100)\n",
        "explode = [0,0,.1,.2, .4]\n",
        "df.state.value_counts().head(5).plot.pie(autopct='%0.2f%%',\n",
        "                                        explode=explode)\n",
        "\n",
        "plt.title('Distribuição dos Status')\n",
        "plt.ylabel('')\n",
        "plt.show()"
      ],
      "execution_count": 0,
      "outputs": [
        {
          "output_type": "display_data",
          "data": {
            "image/png": "[encoded data removed]",
            "text/plain": [
              "<Figure size 600x400 with 1 Axes>"
            ]
          },
          "metadata": {
            "tags": []
          }
        }
      ]
    },
    {
      "cell_type": "markdown",
      "metadata": {
        "id": "oe5HNhCdjI9i",
        "colab_type": "text"
      },
      "source": [
        "# Gráfico número de projetos por Categoria Principal\n",
        "\n",
        "Neste gráfico, é realizado um estudo para verificar as 15 categorias em que mais são submetidos projetos. Observa-se que a categoria *Film & Video* está em primeiro lugar. Lembre-se: dentro de cada Categoria, há uma sub-categoria. Abaixo mais informações sobre as sub-categorias.\n",
        "\n",
        "O gráfico em barras foi plotado utilizando *matplotlib*."
      ]
    },
    {
      "cell_type": "code",
      "metadata": {
        "id": "1Oli2ki56tz_",
        "colab_type": "code",
        "outputId": "2b6e38a4-4b84-4664-a0c5-36354f19c646",
        "colab": {
          "base_uri": "https://localhost:8080/",
          "height": 624
        }
      },
      "source": [
        "principais_categorias = df[\"main_category\"].value_counts()\n",
        "principais_categorias_fail = df[df[\"state\"].isin([\"failed\",\"canceled\",\"suspended\"])][\"main_category\"].value_counts()\n",
        "principais_categorias_sucesso = df[df[\"state\"] == \"successful\"][\"main_category\"].value_counts()\n",
        "color = ['blue', 'orange', 'green', 'red', 'purple', 'brown', 'pink', 'gray', 'cyan', 'black']\n",
        "\n",
        "print(\"Nro. de projetos por Categoria: \")\n",
        "print(principais_categorias)\n",
        "\n",
        "principais_categorias.plot.bar(color = color)\n",
        "plt.title(\"Nro. de Projetos por Categoria Principal\")\n",
        "plt.show()"
      ],
      "execution_count": 0,
      "outputs": [
        {
          "output_type": "stream",
          "text": [
            "Nro. de projetos por Categoria: \n",
            "Film & Video    63585\n",
            "Music           51918\n",
            "Publishing      39874\n",
            "Games           35231\n",
            "Technology      32569\n",
            "Design          30070\n",
            "Art             28153\n",
            "Food            24602\n",
            "Fashion         22816\n",
            "Theater         10913\n",
            "Comics          10819\n",
            "Photography     10779\n",
            "Crafts           8809\n",
            "Journalism       4755\n",
            "Dance            3768\n",
            "Name: main_category, dtype: int64\n"
          ],
          "name": "stdout"
        },
        {
          "output_type": "display_data",
          "data": {
            "image/png": "[encoded data removed]",
            "text/plain": [
              "<Figure size 432x288 with 1 Axes>"
            ]
          },
          "metadata": {
            "tags": []
          }
        }
      ]
    },
    {
      "cell_type": "markdown",
      "metadata": {
        "id": "aulQK7elr4Ej",
        "colab_type": "text"
      },
      "source": [
        "# Gráfico número de projetos que falharam por Caregoria Principal\n",
        "\n",
        "Neste gráfico, observa-se que, assim como acima é visto que a categoria *Film & Video* está em primeiro lugar no número de projetos no geral, ela também está em primeiro lugar nos projetos que falharam.\n"
      ]
    },
    {
      "cell_type": "code",
      "metadata": {
        "id": "BmpiH5gk_dNO",
        "colab_type": "code",
        "outputId": "f5cbccc1-ecb5-4e5d-8da0-db1a8ed0dcf7",
        "colab": {
          "base_uri": "https://localhost:8080/",
          "height": 624
        }
      },
      "source": [
        "print(\"Nro. de projetos que falharam por Categoria: \")\n",
        "print(principais_categorias_fail)\n",
        "\n",
        "principais_categorias_fail.plot.bar(color = color)\n",
        "plt.title(\"Nro. de projetos que falharam por Categoria Principal\")\n",
        "plt.show()"
      ],
      "execution_count": 0,
      "outputs": [
        {
          "output_type": "stream",
          "text": [
            "Nro. de projetos que falharam por Categoria: \n",
            "Film & Video    38776\n",
            "Publishing      26813\n",
            "Technology      25755\n",
            "Music           25206\n",
            "Games           22425\n",
            "Design          19213\n",
            "Food            18333\n",
            "Fashion         16970\n",
            "Art             16449\n",
            "Photography      7425\n",
            "Crafts           6618\n",
            "Comics           4901\n",
            "Theater          4337\n",
            "Journalism       3712\n",
            "Dance            1411\n",
            "Name: main_category, dtype: int64\n"
          ],
          "name": "stdout"
        },
        {
          "output_type": "display_data",
          "data": {
            "image/png": "[encoded data removed]",
            "text/plain": [
              "<Figure size 432x288 with 1 Axes>"
            ]
          },
          "metadata": {
            "tags": []
          }
        }
      ]
    },
    {
      "cell_type": "markdown",
      "metadata": {
        "id": "PxN5AHnKuOFv",
        "colab_type": "text"
      },
      "source": [
        "# Gráfico número de projetos que obitveram sucesso por Caregoria Principal\n",
        "\n",
        "Neste gráfico, observa-se que, a categoria *Music* está em primeiro lugar das que obtiveram sucesso. Logo em seeguida, com pouca diferença, está *Film & Video*.\n"
      ]
    },
    {
      "cell_type": "code",
      "metadata": {
        "id": "lg39Sw1CB6mo",
        "colab_type": "code",
        "outputId": "44c3ad0c-92f5-4fbb-ec4c-a19ba5028312",
        "colab": {
          "base_uri": "https://localhost:8080/",
          "height": 624
        }
      },
      "source": [
        "print(\"Nro. de projetos que obtiveram sucesso por Categoria : \")\n",
        "print(principais_categorias_sucesso)\n",
        "\n",
        "principais_categorias_sucesso.plot.bar(color = color)\n",
        "plt.title(\"Nro. de projetos que obtiveram sucesso por Categoria Principal\")\n",
        "plt.show()"
      ],
      "execution_count": 0,
      "outputs": [
        {
          "output_type": "stream",
          "text": [
            "Nro. de projetos que obtiveram sucesso por Categoria : \n",
            "Music           24197\n",
            "Film & Video    23623\n",
            "Games           12518\n",
            "Publishing      12300\n",
            "Art             11510\n",
            "Design          10550\n",
            "Theater          6534\n",
            "Technology       6434\n",
            "Food             6085\n",
            "Comics           5842\n",
            "Fashion          5593\n",
            "Photography      3305\n",
            "Dance            2338\n",
            "Crafts           2115\n",
            "Journalism       1012\n",
            "Name: main_category, dtype: int64\n"
          ],
          "name": "stdout"
        },
        {
          "output_type": "display_data",
          "data": {
            "image/png": "[encoded data removed]",
            "text/plain": [
              "<Figure size 432x288 with 1 Axes>"
            ]
          },
          "metadata": {
            "tags": []
          }
        }
      ]
    },
    {
      "cell_type": "code",
      "metadata": {
        "id": "mQpH1mDf1BHu",
        "colab_type": "code",
        "outputId": "71451ed5-2328-47b3-d791-5497d4bc25f5",
        "colab": {
          "base_uri": "https://localhost:8080/",
          "height": 728
        }
      },
      "source": [
        "top_20_sub_categorias_com_sucesso = df[df[\"state\"] == \"successful\"][\"category\"].value_counts().head(20)\n",
        "print(\"Nro. de Sub Categorias que obtiveram sucesso: \")\n",
        "print(top_20_sub_categorias_com_sucesso)\n",
        "\n",
        "top_20_sub_categorias_com_sucesso.plot.bar(color = color)\n",
        "plt.title(\"Nro. de Sub Categorias que obtiveram sucesso\")\n",
        "plt.show()"
      ],
      "execution_count": 0,
      "outputs": [
        {
          "output_type": "stream",
          "text": [
            "Nro. de Sub Categorias que obtiveram sucesso: \n",
            "Product Design      7962\n",
            "Tabletop Games      7866\n",
            "Shorts              6673\n",
            "Music               6432\n",
            "Documentary         5924\n",
            "Theater             4405\n",
            "Indie Rock          3618\n",
            "Rock                3500\n",
            "Art                 3385\n",
            "Food                3297\n",
            "Film & Video        3070\n",
            "Country & Folk      2812\n",
            "Comics              2506\n",
            "Video Games         2386\n",
            "Children's Books    2348\n",
            "Fiction             2233\n",
            "Nonfiction          2230\n",
            "Fashion             2188\n",
            "Narrative Film      2013\n",
            "Photography         1876\n",
            "Name: category, dtype: int64\n"
          ],
          "name": "stdout"
        },
        {
          "output_type": "display_data",
          "data": {
            "image/png": "[encoded data removed]",
            "text/plain": [
              "<Figure size 432x288 with 1 Axes>"
            ]
          },
          "metadata": {
            "tags": []
          }
        }
      ]
    },
    {
      "cell_type": "code",
      "metadata": {
        "id": "am60fFd8DwLP",
        "colab_type": "code",
        "outputId": "0ef6bb03-ccb8-47e4-afcd-89be4001ff04",
        "colab": {
          "base_uri": "https://localhost:8080/",
          "height": 554
        }
      },
      "source": [
        "principais_moedas = df[\"currency\"].value_counts()\n",
        "print(\"Nro. de Moedas\")\n",
        "print(principais_moedas)\n",
        "\n",
        "principais_moedas.plot.bar(color = color)\n",
        "plt.show()"
      ],
      "execution_count": 0,
      "outputs": [
        {
          "output_type": "stream",
          "text": [
            "Nro. de Moedas\n",
            "USD    295365\n",
            "GBP     34132\n",
            "EUR     17405\n",
            "CAD     14962\n",
            "AUD      7950\n",
            "SEK      1788\n",
            "MXN      1752\n",
            "NZD      1475\n",
            "DKK      1129\n",
            "CHF       768\n",
            "NOK       722\n",
            "HKD       618\n",
            "SGD       555\n",
            "JPY        40\n",
            "Name: currency, dtype: int64\n"
          ],
          "name": "stdout"
        },
        {
          "output_type": "display_data",
          "data": {
            "image/png": "[encoded data removed]",
            "text/plain": [
              "<Figure size 432x288 with 1 Axes>"
            ]
          },
          "metadata": {
            "tags": []
          }
        }
      ]
    },
    {
      "cell_type": "code",
      "metadata": {
        "id": "Yr35XgsrI8tB",
        "colab_type": "code",
        "outputId": "dfa9661e-d2b0-441a-fc55-054385a33bc2",
        "colab": {
          "base_uri": "https://localhost:8080/",
          "height": 705
        }
      },
      "source": [
        "principais_paises = df[\"country\"].value_counts()\n",
        "print(\"Nro. de Países\")\n",
        "print(principais_paises)\n",
        "\n",
        "principais_paises.plot.bar(color = color)\n",
        "plt.show()"
      ],
      "execution_count": 0,
      "outputs": [
        {
          "output_type": "stream",
          "text": [
            "Nro. de Países\n",
            "US      292627\n",
            "GB       33672\n",
            "CA       14756\n",
            "AU        7839\n",
            "DE        4171\n",
            "N,0\"      3797\n",
            "FR        2939\n",
            "IT        2878\n",
            "NL        2868\n",
            "ES        2276\n",
            "SE        1757\n",
            "MX        1752\n",
            "NZ        1447\n",
            "DK        1113\n",
            "IE         811\n",
            "CH         761\n",
            "NO         708\n",
            "HK         618\n",
            "BE         617\n",
            "AT         597\n",
            "SG         555\n",
            "LU          62\n",
            "JP          40\n",
            "Name: country, dtype: int64\n"
          ],
          "name": "stdout"
        },
        {
          "output_type": "display_data",
          "data": {
            "image/png": "[encoded data removed]",
            "text/plain": [
              "<Figure size 432x288 with 1 Axes>"
            ]
          },
          "metadata": {
            "tags": []
          }
        }
      ]
    },
    {
      "cell_type": "code",
      "metadata": {
        "id": "UZbnjsUvLbuK",
        "colab_type": "code",
        "outputId": "3eb0561c-3774-43d4-f066-bbc47df9c67b",
        "colab": {
          "base_uri": "https://localhost:8080/",
          "height": 449
        }
      },
      "source": [
        "principais_resultados = df[\"state\"].value_counts()\n",
        "print(\"Nro. de Projetos por Status\")\n",
        "print(principais_resultados)\n",
        "\n",
        "principais_resultados.plot.bar(color = color)\n",
        "plt.show()"
      ],
      "execution_count": 0,
      "outputs": [
        {
          "output_type": "stream",
          "text": [
            "Nro. de Projetos por Status\n",
            "failed        197719\n",
            "successful    133956\n",
            "canceled       38779\n",
            "undefined       3562\n",
            "live            2799\n",
            "suspended       1846\n",
            "Name: state, dtype: int64\n"
          ],
          "name": "stdout"
        },
        {
          "output_type": "display_data",
          "data": {
            "image/png": "[encoded data removed]",
            "text/plain": [
              "<Figure size 432x288 with 1 Axes>"
            ]
          },
          "metadata": {
            "tags": []
          }
        }
      ]
    },
    {
      "cell_type": "markdown",
      "metadata": {
        "id": "ToCt9McQvNQF",
        "colab_type": "text"
      },
      "source": [
        "# Preparação dos Dados\n",
        "\n",
        "Neste momento, é realizada a preparação dos dados antes de executar o modelo utilizado. A preparação é um dos momentos mais importantes ao realizar um modelo, isto porque sem ela, haveria inconsisências nos dados, deixando-os imprecisos. Sem o processo de preparação, o nível de precisão da classificação ficará comprometido."
      ]
    },
    {
      "cell_type": "markdown",
      "metadata": {
        "id": "jCDD64-suNPJ",
        "colab_type": "text"
      },
      "source": [
        "## Verificando valores nulos\n",
        "\n",
        "Esta é uma das etapas iniciais na preparação dos dados. É necessário verificar se não há nenhum tipo de dado nulo, pois mais pra frente, na modelagem dos dados, podem ocorrer problemas e enviesar a classificação. Muitas vezes, o *scikit-learn* se encarrega de jogar uma exceção.\n",
        "\n",
        "Verifica-se abaixo que encontramos 3794 valores nulos para a coluna usd pledged e 4 valores nulos para a coluna name."
      ]
    },
    {
      "cell_type": "code",
      "metadata": {
        "id": "0EQOCDqRtaiM",
        "colab_type": "code",
        "outputId": "7a15d99d-5eb8-49e9-ea70-3c3313a4ce34",
        "colab": {
          "base_uri": "https://localhost:8080/",
          "height": 289
        }
      },
      "source": [
        "#verificando se temos valores nulos\n",
        "df.isnull().sum().sort_values(ascending = False)"
      ],
      "execution_count": 0,
      "outputs": [
        {
          "output_type": "execute_result",
          "data": {
            "text/plain": [
              "usd pledged         3797\n",
              "name                   4\n",
              "usd_goal_real          0\n",
              "usd_pledged_real       0\n",
              "country                0\n",
              "backers                0\n",
              "state                  0\n",
              "pledged                0\n",
              "launched               0\n",
              "goal                   0\n",
              "deadline               0\n",
              "currency               0\n",
              "main_category          0\n",
              "category               0\n",
              "ID                     0\n",
              "dtype: int64"
            ]
          },
          "metadata": {
            "tags": []
          },
          "execution_count": 13
        }
      ]
    },
    {
      "cell_type": "markdown",
      "metadata": {
        "id": "uH31HvbfAjOe",
        "colab_type": "text"
      },
      "source": [
        "## Criação de colunas\n",
        "\n",
        "Analisando os dados, percebe-se que saber o tempo de duração dos projetos é essencial, pois desta forma consegue-se estimar a taxa de projetos que chegam no *goal* antes mesmo de chegar o  *deadline*.\n",
        "\n",
        "Para realizar este cálculo, subtrai pelo próprio *Pandas* a data final (*deadline*) e a data em que as arrecadações começaram (*launched*)."
      ]
    },
    {
      "cell_type": "code",
      "metadata": {
        "id": "lJvG4R1tAl4N",
        "colab_type": "code",
        "outputId": "2bcad352-b8a7-4c30-c6f4-f32fda162ac4",
        "colab": {
          "base_uri": "https://localhost:8080/",
          "height": 34
        }
      },
      "source": [
        "print(\"Cria uma nova coluna chamada 'duration_days' que é 'deadline' - 'launched'\")\n",
        "df['launched'] = pd.to_datetime(df['launched'])\n",
        "df['deadline'] = pd.to_datetime(df['deadline'])\n",
        "df['duration_days'] = df['deadline'].subtract(df['launched'])\n",
        "df['duration_days'] = df['duration_days'].astype('timedelta64[D]')"
      ],
      "execution_count": 0,
      "outputs": [
        {
          "output_type": "stream",
          "text": [
            "Cria uma nova coluna chamada 'duration_days' que é 'deadline' - 'launched'\n"
          ],
          "name": "stdout"
        }
      ]
    },
    {
      "cell_type": "markdown",
      "metadata": {
        "id": "HVo2ca0Q9YM_",
        "colab_type": "text"
      },
      "source": [
        "## Retira dados\n",
        "\n",
        "Realizando uma verificação no gráfico de pizza plotado acima no projeto, verifica-se que os Status *'undefined'* e *'live'* representam poucos dados, o que pode enviesar a análise. Por isso, removerei os dois do *dataframe*. \n",
        "\n",
        "Também será realizada a remoção de algumas colunas que não usaremos."
      ]
    },
    {
      "cell_type": "code",
      "metadata": {
        "id": "8ieIs7mavKZG",
        "colab_type": "code",
        "outputId": "b2b636af-5814-4e00-9d28-a056788e86ef",
        "colab": {
          "base_uri": "https://localhost:8080/",
          "height": 51
        }
      },
      "source": [
        "print(\"Retirando os status 'undefined' e 'live' do model...\")\n",
        "df = df[df[\"state\"].isin([\"failed\", \"canceled\", \"successful\", \"suspended\"])].copy()\n",
        "print(df.shape)"
      ],
      "execution_count": 0,
      "outputs": [
        {
          "output_type": "stream",
          "text": [
            "Retirando os status 'undefined' e 'live' do model...\n",
            "(372300, 16)\n"
          ],
          "name": "stdout"
        }
      ]
    },
    {
      "cell_type": "code",
      "metadata": {
        "id": "PI1-ss4nAyBl",
        "colab_type": "code",
        "outputId": "3feb7cb6-6127-4445-fadf-6747639b289e",
        "colab": {
          "base_uri": "https://localhost:8080/",
          "height": 51
        }
      },
      "source": [
        "print(\"Deletando colunas que não usaremos...\")\n",
        "df = df.drop('ID', 1)\n",
        "df = df.drop('name', 1)\n",
        "df = df.drop('usd pledged', 1)\n",
        "df = df.drop('usd_pledged_real', 1)\n",
        "df = df.drop('backers', 1)\n",
        "\n",
        "print(df.shape)"
      ],
      "execution_count": 0,
      "outputs": [
        {
          "output_type": "stream",
          "text": [
            "Deletando colunas que não usaremos...\n",
            "(372300, 11)\n"
          ],
          "name": "stdout"
        }
      ]
    },
    {
      "cell_type": "code",
      "metadata": {
        "id": "m9l50LR3KG7x",
        "colab_type": "code",
        "outputId": "2a4c1e74-d73b-41b9-d7bb-ae94155d5ebb",
        "colab": {
          "base_uri": "https://localhost:8080/",
          "height": 34
        }
      },
      "source": [
        "print(\"Deletando colunas: launched, deadline and pledged\")\n",
        "df = df.drop('launched', 1)\n",
        "df = df.drop('deadline', 1)\n",
        "df = df.drop('pledged', 1)"
      ],
      "execution_count": 0,
      "outputs": [
        {
          "output_type": "stream",
          "text": [
            "Deletando colunas: launched, deadline and pledged\n"
          ],
          "name": "stdout"
        }
      ]
    },
    {
      "cell_type": "markdown",
      "metadata": {
        "id": "pfX8H3kEdIO3",
        "colab_type": "text"
      },
      "source": [
        "## Verifica possíveis outliers\n",
        "\n",
        "Neste passo, é realizada a plotagem do campo *goal* em um *boxplot*. Percebe-se que há tantos *outliers* que mal conseguimos visualizar sua caixa."
      ]
    },
    {
      "cell_type": "code",
      "metadata": {
        "id": "Tou4gTbzUtzb",
        "colab_type": "code",
        "outputId": "f04707b6-79d0-4d66-a347-46c590ec8cd9",
        "colab": {
          "base_uri": "https://localhost:8080/",
          "height": 300
        }
      },
      "source": [
        "#antes de eliminar boa parte dos outliers\n",
        "sns.boxplot(x=df['goal'])"
      ],
      "execution_count": 0,
      "outputs": [
        {
          "output_type": "execute_result",
          "data": {
            "text/plain": [
              "<matplotlib.axes._subplots.AxesSubplot at 0x7fb0c9383400>"
            ]
          },
          "metadata": {
            "tags": []
          },
          "execution_count": 18
        },
        {
          "output_type": "display_data",
          "data": {
            "image/png": "[encoded data removed]",
            "text/plain": [
              "<Figure size 432x288 with 1 Axes>"
            ]
          },
          "metadata": {
            "tags": []
          }
        }
      ]
    },
    {
      "cell_type": "markdown",
      "metadata": {
        "id": "VP6sh2rMdsES",
        "colab_type": "text"
      },
      "source": [
        "## Retira grande parte dos *outliers*\n",
        "\n",
        "Para retirar grande parte dos *outliers*, foi realizado um range de *goal*, no qual *goal* ficaria na faixa maior e igual a 1000 e menor e igual a 100000."
      ]
    },
    {
      "cell_type": "code",
      "metadata": {
        "id": "Gt6TvB2wOsOL",
        "colab_type": "code",
        "outputId": "8368cb83-7616-44df-ef70-fa40d9564ede",
        "colab": {
          "base_uri": "https://localhost:8080/",
          "height": 34
        }
      },
      "source": [
        "#tirando os outliers\n",
        "df = df[(df['goal'] <= 100000) & (df['goal'] >= 1000)].copy()\n",
        "df.shape"
      ],
      "execution_count": 0,
      "outputs": [
        {
          "output_type": "execute_result",
          "data": {
            "text/plain": [
              "(312635, 8)"
            ]
          },
          "metadata": {
            "tags": []
          },
          "execution_count": 19
        }
      ]
    },
    {
      "cell_type": "markdown",
      "metadata": {
        "id": "V4xocnPVeaYS",
        "colab_type": "text"
      },
      "source": [
        "## Verifica resultado após remover grande parte dos *outliers*\n",
        "\n",
        "Aqui, realizei a mesma plotagem do *boxplot* que fiz acima, porém com os dados modificados."
      ]
    },
    {
      "cell_type": "code",
      "metadata": {
        "id": "s9gsqs60S0S4",
        "colab_type": "code",
        "outputId": "3981b93f-f092-44d4-f623-6129dc5adaad",
        "colab": {
          "base_uri": "https://localhost:8080/",
          "height": 300
        }
      },
      "source": [
        "#depois de eliminar boa parte dos outliers\n",
        "sns.boxplot(x=df['goal'])"
      ],
      "execution_count": 0,
      "outputs": [
        {
          "output_type": "execute_result",
          "data": {
            "text/plain": [
              "<matplotlib.axes._subplots.AxesSubplot at 0x7fb0c663bc88>"
            ]
          },
          "metadata": {
            "tags": []
          },
          "execution_count": 20
        },
        {
          "output_type": "display_data",
          "data": {
            "image/png": "[encoded data removed]",
            "text/plain": [
              "<Figure size 432x288 with 1 Axes>"
            ]
          },
          "metadata": {
            "tags": []
          }
        }
      ]
    },
    {
      "cell_type": "code",
      "metadata": {
        "id": "NhtyIpbUVDX0",
        "colab_type": "code",
        "colab": {}
      },
      "source": [
        "#realizando um integer encoding no state\n",
        "df['state'] = df['state'].map({\n",
        "    'successful': 1,\n",
        "    'failed': 0,\n",
        "    'suspended': 0,\n",
        "    'canceled': 0\n",
        "})"
      ],
      "execution_count": 0,
      "outputs": []
    },
    {
      "cell_type": "code",
      "metadata": {
        "id": "fS-NnlC8mFc2",
        "colab_type": "code",
        "outputId": "6b6fbed1-cada-48dc-e225-a42d68b47a7b",
        "colab": {
          "base_uri": "https://localhost:8080/",
          "height": 2142
        }
      },
      "source": [
        "print(\"Utilizando one-hot encondig para category, main_category, currency e country\")\n",
        "list_columns = ['category', 'main_category', 'currency', 'country']\n",
        "\n",
        "print(df['category'])\n",
        "for column_name in list_columns :  \n",
        "  label_encoder = LabelEncoder()\n",
        "  label_encoder.fit(df[column_name].unique())\n",
        "  df[column_name] = label_encoder.transform(df[column_name])\n",
        "  \n",
        "print(df['category'])\n",
        "\n",
        "# df = pd.get_dummies(df, columns = ['category'])\n",
        "# df = pd.get_dummies(df, columns = ['main_category'])\n",
        "# df = pd.get_dummies(df, columns = ['currency'])\n",
        "# df = pd.get_dummies(df, columns = ['country'])"
      ],
      "execution_count": 0,
      "outputs": [
        {
          "output_type": "stream",
          "text": [
            "Utilizando one-hot encondig para category, main_category, currency e country\n",
            "0                  Poetry\n",
            "1          Narrative Film\n",
            "2          Narrative Film\n",
            "3                   Music\n",
            "4            Film & Video\n",
            "5             Restaurants\n",
            "6                    Food\n",
            "7                  Drinks\n",
            "9             Documentary\n",
            "10             Nonfiction\n",
            "11             Indie Rock\n",
            "12                 Crafts\n",
            "14         Tabletop Games\n",
            "15                 Design\n",
            "16            Comic Books\n",
            "17              Art Books\n",
            "19                   Food\n",
            "20                Fashion\n",
            "21          Childrenswear\n",
            "22                Theater\n",
            "25                  Music\n",
            "26                    DIY\n",
            "27              Webseries\n",
            "29              Animation\n",
            "30            Food Trucks\n",
            "31         Product Design\n",
            "32         Product Design\n",
            "33             Public Art\n",
            "34                  Music\n",
            "35              Webseries\n",
            "               ...       \n",
            "378627           Fine Art\n",
            "378628            Apparel\n",
            "378629        Restaurants\n",
            "378630       Illustration\n",
            "378631      Playing Cards\n",
            "378632             Comedy\n",
            "378633            Apparel\n",
            "378634        Photography\n",
            "378636     Country & Folk\n",
            "378637             Shorts\n",
            "378638         Nonfiction\n",
            "378639             Drinks\n",
            "378640            Fiction\n",
            "378641     Product Design\n",
            "378642     Tabletop Games\n",
            "378643        3D Printing\n",
            "378644     Product Design\n",
            "378645             Comics\n",
            "378647         Nonfiction\n",
            "378650               Apps\n",
            "378651    Classical Music\n",
            "378652        Documentary\n",
            "378653        Documentary\n",
            "378654        Small Batch\n",
            "378655             Poetry\n",
            "378656        Documentary\n",
            "378657     Narrative Film\n",
            "378658     Narrative Film\n",
            "378659         Technology\n",
            "378660    Performance Art\n",
            "Name: category, Length: 312635, dtype: object\n",
            "0         108\n",
            "1          93\n",
            "2          93\n",
            "3          90\n",
            "4          55\n",
            "5         123\n",
            "6          58\n",
            "7          41\n",
            "9          39\n",
            "10         95\n",
            "11         72\n",
            "12         32\n",
            "14        136\n",
            "15         37\n",
            "16         25\n",
            "17         11\n",
            "19         58\n",
            "20         52\n",
            "21         20\n",
            "22        141\n",
            "25         90\n",
            "26         34\n",
            "27        153\n",
            "29          5\n",
            "30         59\n",
            "31        113\n",
            "32        113\n",
            "33        114\n",
            "34         90\n",
            "35        153\n",
            "         ... \n",
            "378627     56\n",
            "378628      7\n",
            "378629    123\n",
            "378630     70\n",
            "378631    106\n",
            "378632     24\n",
            "378633      7\n",
            "378634    104\n",
            "378636     30\n",
            "378637    129\n",
            "378638     95\n",
            "378639     41\n",
            "378640     54\n",
            "378641    113\n",
            "378642    136\n",
            "378643      0\n",
            "378644    113\n",
            "378645     26\n",
            "378647     95\n",
            "378650      8\n",
            "378651     23\n",
            "378652     39\n",
            "378653     39\n",
            "378654    130\n",
            "378655    108\n",
            "378656     39\n",
            "378657     93\n",
            "378658     93\n",
            "378659    138\n",
            "378660     98\n",
            "Name: category, Length: 312635, dtype: int64\n"
          ],
          "name": "stdout"
        }
      ]
    },
    {
      "cell_type": "code",
      "metadata": {
        "id": "g43Nk0Faqjas",
        "colab_type": "code",
        "outputId": "47cec08c-1c27-47f7-b54a-be8adc5d9920",
        "colab": {
          "base_uri": "https://localhost:8080/",
          "height": 51
        }
      },
      "source": [
        "print(\"Renomeia 'main_cetegory Film & Video' to main_category_film para evitar erros de encoding\")\n",
        "df.rename(columns = {\"main_category_Film & Video\" : \"main_category_Film\"}, inplace = True)\n",
        "print('Coluna renomeada!')"
      ],
      "execution_count": 0,
      "outputs": [
        {
          "output_type": "stream",
          "text": [
            "Renomeia 'main_cetegory Film & Video' to main_category_film para evitar erros de encoding\n",
            "Coluna renomeada!\n"
          ],
          "name": "stdout"
        }
      ]
    },
    {
      "cell_type": "code",
      "metadata": {
        "id": "SKhgLJ8Smer4",
        "colab_type": "code",
        "outputId": "e4ba3a51-4505-4df2-e207-f3b8f8d29832",
        "colab": {
          "base_uri": "https://localhost:8080/",
          "height": 204
        }
      },
      "source": [
        "df.head()"
      ],
      "execution_count": 0,
      "outputs": [
        {
          "output_type": "execute_result",
          "data": {
            "text/html": [
              "<div>\n",
              "<style scoped>\n",
              "    .dataframe tbody tr th:only-of-type {\n",
              "        vertical-align: middle;\n",
              "    }\n",
              "\n",
              "    .dataframe tbody tr th {\n",
              "        vertical-align: top;\n",
              "    }\n",
              "\n",
              "    .dataframe thead th {\n",
              "        text-align: right;\n",
              "    }\n",
              "</style>\n",
              "<table border=\"1\" class=\"dataframe\">\n",
              "  <thead>\n",
              "    <tr style=\"text-align: right;\">\n",
              "      <th></th>\n",
              "      <th>category</th>\n",
              "      <th>main_category</th>\n",
              "      <th>currency</th>\n",
              "      <th>goal</th>\n",
              "      <th>state</th>\n",
              "      <th>country</th>\n",
              "      <th>usd_goal_real</th>\n",
              "      <th>duration_days</th>\n",
              "    </tr>\n",
              "  </thead>\n",
              "  <tbody>\n",
              "    <tr>\n",
              "      <th>0</th>\n",
              "      <td>108</td>\n",
              "      <td>12</td>\n",
              "      <td>5</td>\n",
              "      <td>1000.0</td>\n",
              "      <td>0</td>\n",
              "      <td>9</td>\n",
              "      <td>1533.95</td>\n",
              "      <td>58.0</td>\n",
              "    </tr>\n",
              "    <tr>\n",
              "      <th>1</th>\n",
              "      <td>93</td>\n",
              "      <td>6</td>\n",
              "      <td>13</td>\n",
              "      <td>30000.0</td>\n",
              "      <td>0</td>\n",
              "      <td>22</td>\n",
              "      <td>30000.00</td>\n",
              "      <td>59.0</td>\n",
              "    </tr>\n",
              "    <tr>\n",
              "      <th>2</th>\n",
              "      <td>93</td>\n",
              "      <td>6</td>\n",
              "      <td>13</td>\n",
              "      <td>45000.0</td>\n",
              "      <td>0</td>\n",
              "      <td>22</td>\n",
              "      <td>45000.00</td>\n",
              "      <td>44.0</td>\n",
              "    </tr>\n",
              "    <tr>\n",
              "      <th>3</th>\n",
              "      <td>90</td>\n",
              "      <td>10</td>\n",
              "      <td>13</td>\n",
              "      <td>5000.0</td>\n",
              "      <td>0</td>\n",
              "      <td>22</td>\n",
              "      <td>5000.00</td>\n",
              "      <td>29.0</td>\n",
              "    </tr>\n",
              "    <tr>\n",
              "      <th>4</th>\n",
              "      <td>55</td>\n",
              "      <td>6</td>\n",
              "      <td>13</td>\n",
              "      <td>19500.0</td>\n",
              "      <td>0</td>\n",
              "      <td>22</td>\n",
              "      <td>19500.00</td>\n",
              "      <td>55.0</td>\n",
              "    </tr>\n",
              "  </tbody>\n",
              "</table>\n",
              "</div>"
            ],
            "text/plain": [
              "   category  main_category  currency  ...  country  usd_goal_real  duration_days\n",
              "0       108             12         5  ...        9        1533.95           58.0\n",
              "1        93              6        13  ...       22       30000.00           59.0\n",
              "2        93              6        13  ...       22       45000.00           44.0\n",
              "3        90             10        13  ...       22        5000.00           29.0\n",
              "4        55              6        13  ...       22       19500.00           55.0\n",
              "\n",
              "[5 rows x 8 columns]"
            ]
          },
          "metadata": {
            "tags": []
          },
          "execution_count": 24
        }
      ]
    },
    {
      "cell_type": "code",
      "metadata": {
        "id": "Mn1C-a6vwZcu",
        "colab_type": "code",
        "outputId": "52c14b5d-c6fa-4f1e-8e9c-543445c8e17f",
        "colab": {
          "base_uri": "https://localhost:8080/",
          "height": 68
        }
      },
      "source": [
        "print('drop target variable from train/test datasets')\n",
        "print(df.shape)\n",
        "df.head()\n",
        "y = df['state']\n",
        "print(y.shape)\n",
        "y.head(5)\n",
        "df = df.drop('state', 1)"
      ],
      "execution_count": 0,
      "outputs": [
        {
          "output_type": "stream",
          "text": [
            "drop target variable from train/test datasets\n",
            "(312635, 8)\n",
            "(312635,)\n"
          ],
          "name": "stdout"
        }
      ]
    },
    {
      "cell_type": "code",
      "metadata": {
        "id": "eNOmi27Onwu4",
        "colab_type": "code",
        "outputId": "fa964d94-1439-4372-ad64-676fb1c8f19d",
        "colab": {
          "base_uri": "https://localhost:8080/",
          "height": 1071
        }
      },
      "source": [
        "y.head(100)"
      ],
      "execution_count": 0,
      "outputs": [
        {
          "output_type": "execute_result",
          "data": {
            "text/plain": [
              "0      0\n",
              "1      0\n",
              "2      0\n",
              "3      0\n",
              "4      0\n",
              "5      1\n",
              "6      1\n",
              "7      0\n",
              "9      0\n",
              "10     0\n",
              "11     1\n",
              "12     0\n",
              "14     1\n",
              "15     0\n",
              "16     0\n",
              "17     0\n",
              "19     0\n",
              "20     1\n",
              "21     0\n",
              "22     0\n",
              "25     1\n",
              "26     0\n",
              "27     1\n",
              "29     1\n",
              "30     0\n",
              "31     1\n",
              "32     1\n",
              "33     0\n",
              "34     1\n",
              "35     0\n",
              "      ..\n",
              "80     0\n",
              "81     0\n",
              "82     1\n",
              "85     1\n",
              "86     0\n",
              "87     0\n",
              "88     0\n",
              "89     0\n",
              "90     1\n",
              "91     0\n",
              "92     1\n",
              "93     0\n",
              "94     1\n",
              "95     1\n",
              "96     1\n",
              "97     1\n",
              "98     0\n",
              "99     0\n",
              "102    1\n",
              "104    0\n",
              "105    1\n",
              "106    0\n",
              "107    0\n",
              "108    1\n",
              "109    1\n",
              "110    1\n",
              "111    1\n",
              "114    0\n",
              "115    0\n",
              "116    1\n",
              "Name: state, Length: 100, dtype: int64"
            ]
          },
          "metadata": {
            "tags": []
          },
          "execution_count": 26
        }
      ]
    },
    {
      "cell_type": "code",
      "metadata": {
        "id": "tj0-ovJOwyva",
        "colab_type": "code",
        "outputId": "25f465f3-8547-45eb-eed8-48e57ba7ef08",
        "colab": {
          "base_uri": "https://localhost:8080/",
          "height": 119
        }
      },
      "source": [
        "print('Split dataframe into random train and test subsets')\n",
        "X_train, X_test, Y_train, Y_test = train_test_split(\n",
        "    df,\n",
        "    y, \n",
        "    test_size = 0.3,\n",
        "    random_state = 42\n",
        ")\n",
        "\n",
        "print('train data shape')\n",
        "print(X_train.shape, Y_train.shape)\n",
        "print('test data shape')\n",
        "print(X_test.shape, Y_test.shape)\n",
        "print('done')"
      ],
      "execution_count": 0,
      "outputs": [
        {
          "output_type": "stream",
          "text": [
            "Split dataframe into random train and test subsets\n",
            "train data shape\n",
            "(218844, 7) (218844,)\n",
            "test data shape\n",
            "(93791, 7) (93791,)\n",
            "done\n"
          ],
          "name": "stdout"
        }
      ]
    },
    {
      "cell_type": "code",
      "metadata": {
        "id": "F8IieifkSGSd",
        "colab_type": "code",
        "outputId": "7dfdfb99-2b48-423c-b2b6-20085e738370",
        "colab": {
          "base_uri": "https://localhost:8080/",
          "height": 119
        }
      },
      "source": [
        "X_test.head()\n",
        "Y_test.head()"
      ],
      "execution_count": 0,
      "outputs": [
        {
          "output_type": "execute_result",
          "data": {
            "text/plain": [
              "367337    1\n",
              "200426    0\n",
              "283023    0\n",
              "306551    0\n",
              "332136    1\n",
              "Name: state, dtype: int64"
            ]
          },
          "metadata": {
            "tags": []
          },
          "execution_count": 47
        }
      ]
    },
    {
      "cell_type": "code",
      "metadata": {
        "id": "WvmhIR6rx1wX",
        "colab_type": "code",
        "outputId": "4e48b39d-17cc-4548-bba8-55399918bf78",
        "colab": {
          "base_uri": "https://localhost:8080/",
          "height": 51
        }
      },
      "source": [
        "  # 67.01 10 estimators (arvores)\n",
        "# 66.98 20 estimators\n",
        "#67.05 30 estimators\n",
        "#66.09 40 estimators\n",
        "#66.09 50 estimators\n",
        "#67.28 60 estimators\n",
        "\n",
        "start_time = time.clock() # Start time.\n",
        "random_forest = RandomForestClassifier(n_estimators=100)\n",
        "random_forest.fit(X_train, Y_train)\n",
        "acc_random_forest = round(random_forest.score(X_test, Y_test) * 100, 2)\n",
        "print(acc_random_forest)\n",
        "print('Runtime: '+'%s seconds'% (time.clock() - start_time)) # End time."
      ],
      "execution_count": 0,
      "outputs": [
        {
          "output_type": "stream",
          "text": [
            "67.05\n",
            "Runtime: 45.78691899999998 seconds\n"
          ],
          "name": "stdout"
        }
      ]
    },
    {
      "cell_type": "code",
      "metadata": {
        "id": "-G88CB3uOeeA",
        "colab_type": "code",
        "outputId": "d9088445-69a9-4b4c-b0df-ecb137dd17e2",
        "colab": {
          "base_uri": "https://localhost:8080/",
          "height": 300
        }
      },
      "source": [
        "ypred = random_forest.predict(X_test)\n",
        "mat = confusion_matrix(Y_test, ypred)\n",
        "sns.heatmap(mat.T, square=True, annot=True, fmt='d', cbar=False)\n",
        "plt.xlabel('true label')\n",
        "plt.ylabel('predicted label')"
      ],
      "execution_count": 0,
      "outputs": [
        {
          "output_type": "execute_result",
          "data": {
            "text/plain": [
              "Text(91.68, 0.5, 'predicted label')"
            ]
          },
          "metadata": {
            "tags": []
          },
          "execution_count": 48
        },
        {
          "output_type": "display_data",
          "data": {
            "image/png": "[encoded data removed]",
            "text/plain": [
              "<Figure size 432x288 with 1 Axes>"
            ]
          },
          "metadata": {
            "tags": []
          }
        }
      ]
    }
  ]
}