{
  "nbformat": 4,
  "nbformat_minor": 0,
  "metadata": {
    "colab": {
      "name": "Kickstarter_Model.ipynb",
      "version": "0.3.2",
      "provenance": [],
      "collapsed_sections": [],
      "toc_visible": true,
      "include_colab_link": true
    },
    "kernelspec": {
      "name": "python3",
      "display_name": "Python 3"
    }
  },
  "cells": [
    {
      "cell_type": "markdown",
      "metadata": {
        "id": "view-in-github",
        "colab_type": "text"
      },
      "source": [
        "<a href=\"https://colab.research.google.com/github/victormazevedo/kickstart-random-forest-model/blob/master/Kickstarter_Model.ipynb\" target=\"_parent\"><img src=\"https://colab.research.google.com/assets/colab-badge.svg\" alt=\"Open In Colab\"/></a>"
      ]
    },
    {
      "cell_type": "markdown",
      "metadata": {
        "id": "JvQHADu6mL9v",
        "colab_type": "text"
      },
      "source": [
        "# Kickstart 2018 Model\n",
        "\n",
        "Este projeto é destinado à disciplina de Inteligência Artificial, ministrada pelo docente Lucas Figueira Baggio. O objetivo deste projeto é realizar uma série de estudos a respeito da plataforma *Kickstarter*, utilizando *Random Forest* para classificar se um projeto terá ou não sucesso.\n",
        "\n",
        "*Kickstarter* é a maior plataforma de financiamento coletivo do mundo que está sempre buscando apoiar projetos inovadores. "
      ]
    },
    {
      "cell_type": "markdown",
      "metadata": {
        "id": "u3oIP_kFnV29",
        "colab_type": "text"
      },
      "source": [
        "# Primeiro passo\n",
        "Realizar uma conexão com o *Google Drive* via *PyDrive*.\n",
        "\n",
        "*PyDrive* é uma *library* da  [google-api-python-client](https://github.com/googleapis/google-api-python-client) que simplifica muitas tarefas da API do *Google Drive*, dentre elas realizar uma conexão com o mesmo e inserir no projeto o arquivo *CSV* necessário.\n",
        "Após a instalação, pegar o ID do arquivo. Por exemplo: https://drive.google.com/open?id=1FErg6pKwGENw0CaD-hsZ83kVsKsfiRxi, na qual o ID é: 1FErg6pKwGENw0CaD-hsZ83kVsKsfiRxi."
      ]
    },
    {
      "cell_type": "code",
      "metadata": {
        "id": "n0JlymbdarIx",
        "colab_type": "code",
        "outputId": "f5e0f91a-63fc-42fc-9304-75e41c6a1ad3",
        "colab": {
          "base_uri": "https://localhost:8080/",
          "height": 50
        }
      },
      "source": [
        "# Code to read csv file into colaboratory:\n",
        "!pip install -U -q PyDrive\n",
        "from pydrive.auth import GoogleAuth\n",
        "from pydrive.drive import GoogleDrive\n",
        "from google.colab import auth\n",
        "from oauth2client.client import GoogleCredentials\n",
        "\n",
        "# 1. Authenticate and create the PyDrive client.\n",
        "auth.authenticate_user()\n",
        "gauth = GoogleAuth()\n",
        "gauth.credentials = GoogleCredentials.get_application_default()\n",
        "drive = GoogleDrive(gauth)\n",
        "\n",
        "#2. Get the file\n",
        "downloaded = drive.CreateFile({'id':'1FErg6pKwGENw0CaD-hsZ83kVsKsfiRxi'}) # replace the id with id of file you want to access\n",
        "downloaded.GetContentFile('kickstarter2018.csv') "
      ],
      "execution_count": 0,
      "outputs": [
        {
          "output_type": "stream",
          "text": [
            "\u001b[?25l\r\u001b[K     |▎                               | 10kB 15.7MB/s eta 0:00:01\r\u001b[K     |▋                               | 20kB 2.7MB/s eta 0:00:01\r\u001b[K     |█                               | 30kB 3.9MB/s eta 0:00:01\r\u001b[K     |█▎                              | 40kB 2.8MB/s eta 0:00:01\r\u001b[K     |█▋                              | 51kB 3.4MB/s eta 0:00:01\r\u001b[K     |██                              | 61kB 4.1MB/s eta 0:00:01\r\u001b[K     |██▎                             | 71kB 4.7MB/s eta 0:00:01\r\u001b[K     |██▋                             | 81kB 5.3MB/s eta 0:00:01\r\u001b[K     |███                             | 92kB 5.9MB/s eta 0:00:01\r\u001b[K     |███▎                            | 102kB 4.7MB/s eta 0:00:01\r\u001b[K     |███▋                            | 112kB 4.7MB/s eta 0:00:01\r\u001b[K     |████                            | 122kB 4.7MB/s eta 0:00:01\r\u001b[K     |████▎                           | 133kB 4.7MB/s eta 0:00:01\r\u001b[K     |████▋                           | 143kB 4.7MB/s eta 0:00:01\r\u001b[K     |█████                           | 153kB 4.7MB/s eta 0:00:01\r\u001b[K     |█████▎                          | 163kB 4.7MB/s eta 0:00:01\r\u001b[K     |█████▋                          | 174kB 4.7MB/s eta 0:00:01\r\u001b[K     |██████                          | 184kB 4.7MB/s eta 0:00:01\r\u001b[K     |██████▎                         | 194kB 4.7MB/s eta 0:00:01\r\u001b[K     |██████▋                         | 204kB 4.7MB/s eta 0:00:01\r\u001b[K     |███████                         | 215kB 4.7MB/s eta 0:00:01\r\u001b[K     |███████▎                        | 225kB 4.7MB/s eta 0:00:01\r\u001b[K     |███████▋                        | 235kB 4.7MB/s eta 0:00:01\r\u001b[K     |████████                        | 245kB 4.7MB/s eta 0:00:01\r\u001b[K     |████████▎                       | 256kB 4.7MB/s eta 0:00:01\r\u001b[K     |████████▋                       | 266kB 4.7MB/s eta 0:00:01\r\u001b[K     |█████████                       | 276kB 4.7MB/s eta 0:00:01\r\u001b[K     |█████████▎                      | 286kB 4.7MB/s eta 0:00:01\r\u001b[K     |█████████▋                      | 296kB 4.7MB/s eta 0:00:01\r\u001b[K     |██████████                      | 307kB 4.7MB/s eta 0:00:01\r\u001b[K     |██████████▎                     | 317kB 4.7MB/s eta 0:00:01\r\u001b[K     |██████████▋                     | 327kB 4.7MB/s eta 0:00:01\r\u001b[K     |███████████                     | 337kB 4.7MB/s eta 0:00:01\r\u001b[K     |███████████▎                    | 348kB 4.7MB/s eta 0:00:01\r\u001b[K     |███████████▋                    | 358kB 4.7MB/s eta 0:00:01\r\u001b[K     |████████████                    | 368kB 4.7MB/s eta 0:00:01\r\u001b[K     |████████████▎                   | 378kB 4.7MB/s eta 0:00:01\r\u001b[K     |████████████▋                   | 389kB 4.7MB/s eta 0:00:01\r\u001b[K     |█████████████                   | 399kB 4.7MB/s eta 0:00:01\r\u001b[K     |█████████████▎                  | 409kB 4.7MB/s eta 0:00:01\r\u001b[K     |█████████████▋                  | 419kB 4.7MB/s eta 0:00:01\r\u001b[K     |██████████████                  | 430kB 4.7MB/s eta 0:00:01\r\u001b[K     |██████████████▎                 | 440kB 4.7MB/s eta 0:00:01\r\u001b[K     |██████████████▋                 | 450kB 4.7MB/s eta 0:00:01\r\u001b[K     |███████████████                 | 460kB 4.7MB/s eta 0:00:01\r\u001b[K     |███████████████▎                | 471kB 4.7MB/s eta 0:00:01\r\u001b[K     |███████████████▋                | 481kB 4.7MB/s eta 0:00:01\r\u001b[K     |████████████████                | 491kB 4.7MB/s eta 0:00:01\r\u001b[K     |████████████████▎               | 501kB 4.7MB/s eta 0:00:01\r\u001b[K     |████████████████▋               | 512kB 4.7MB/s eta 0:00:01\r\u001b[K     |█████████████████               | 522kB 4.7MB/s eta 0:00:01\r\u001b[K     |█████████████████▎              | 532kB 4.7MB/s eta 0:00:01\r\u001b[K     |█████████████████▋              | 542kB 4.7MB/s eta 0:00:01\r\u001b[K     |██████████████████              | 552kB 4.7MB/s eta 0:00:01\r\u001b[K     |██████████████████▎             | 563kB 4.7MB/s eta 0:00:01\r\u001b[K     |██████████████████▋             | 573kB 4.7MB/s eta 0:00:01\r\u001b[K     |███████████████████             | 583kB 4.7MB/s eta 0:00:01\r\u001b[K     |███████████████████▎            | 593kB 4.7MB/s eta 0:00:01\r\u001b[K     |███████████████████▋            | 604kB 4.7MB/s eta 0:00:01\r\u001b[K     |████████████████████            | 614kB 4.7MB/s eta 0:00:01\r\u001b[K     |████████████████████▎           | 624kB 4.7MB/s eta 0:00:01\r\u001b[K     |████████████████████▋           | 634kB 4.7MB/s eta 0:00:01\r\u001b[K     |█████████████████████           | 645kB 4.7MB/s eta 0:00:01\r\u001b[K     |█████████████████████▎          | 655kB 4.7MB/s eta 0:00:01\r\u001b[K     |█████████████████████▋          | 665kB 4.7MB/s eta 0:00:01\r\u001b[K     |██████████████████████          | 675kB 4.7MB/s eta 0:00:01\r\u001b[K     |██████████████████████▎         | 686kB 4.7MB/s eta 0:00:01\r\u001b[K     |██████████████████████▋         | 696kB 4.7MB/s eta 0:00:01\r\u001b[K     |███████████████████████         | 706kB 4.7MB/s eta 0:00:01\r\u001b[K     |███████████████████████▎        | 716kB 4.7MB/s eta 0:00:01\r\u001b[K     |███████████████████████▋        | 727kB 4.7MB/s eta 0:00:01\r\u001b[K     |████████████████████████        | 737kB 4.7MB/s eta 0:00:01\r\u001b[K     |████████████████████████▎       | 747kB 4.7MB/s eta 0:00:01\r\u001b[K     |████████████████████████▋       | 757kB 4.7MB/s eta 0:00:01\r\u001b[K     |████████████████████████▉       | 768kB 4.7MB/s eta 0:00:01\r\u001b[K     |█████████████████████████▏      | 778kB 4.7MB/s eta 0:00:01\r\u001b[K     |█████████████████████████▌      | 788kB 4.7MB/s eta 0:00:01\r\u001b[K     |█████████████████████████▉      | 798kB 4.7MB/s eta 0:00:01\r\u001b[K     |██████████████████████████▏     | 808kB 4.7MB/s eta 0:00:01\r\u001b[K     |██████████████████████████▌     | 819kB 4.7MB/s eta 0:00:01\r\u001b[K     |██████████████████████████▉     | 829kB 4.7MB/s eta 0:00:01\r\u001b[K     |███████████████████████████▏    | 839kB 4.7MB/s eta 0:00:01\r\u001b[K     |███████████████████████████▌    | 849kB 4.7MB/s eta 0:00:01\r\u001b[K     |███████████████████████████▉    | 860kB 4.7MB/s eta 0:00:01\r\u001b[K     |████████████████████████████▏   | 870kB 4.7MB/s eta 0:00:01\r\u001b[K     |████████████████████████████▌   | 880kB 4.7MB/s eta 0:00:01\r\u001b[K     |████████████████████████████▉   | 890kB 4.7MB/s eta 0:00:01\r\u001b[K     |█████████████████████████████▏  | 901kB 4.7MB/s eta 0:00:01\r\u001b[K     |█████████████████████████████▌  | 911kB 4.7MB/s eta 0:00:01\r\u001b[K     |█████████████████████████████▉  | 921kB 4.7MB/s eta 0:00:01\r\u001b[K     |██████████████████████████████▏ | 931kB 4.7MB/s eta 0:00:01\r\u001b[K     |██████████████████████████████▌ | 942kB 4.7MB/s eta 0:00:01\r\u001b[K     |██████████████████████████████▉ | 952kB 4.7MB/s eta 0:00:01\r\u001b[K     |███████████████████████████████▏| 962kB 4.7MB/s eta 0:00:01\r\u001b[K     |███████████████████████████████▌| 972kB 4.7MB/s eta 0:00:01\r\u001b[K     |███████████████████████████████▉| 983kB 4.7MB/s eta 0:00:01\r\u001b[K     |████████████████████████████████| 993kB 4.7MB/s \n",
            "\u001b[?25h  Building wheel for PyDrive (setup.py) ... \u001b[?25l\u001b[?25hdone\n"
          ],
          "name": "stdout"
        }
      ]
    },
    {
      "cell_type": "code",
      "metadata": {
        "id": "FLqU7V9BiHJz",
        "colab_type": "code",
        "colab": {}
      },
      "source": [
        "import pandas as pd\n",
        "import io\n",
        "import matplotlib.pyplot as plt"
      ],
      "execution_count": 0,
      "outputs": []
    },
    {
      "cell_type": "code",
      "metadata": {
        "id": "jZ-pumE6khe_",
        "colab_type": "code",
        "colab": {}
      },
      "source": [
        "df = pd.read_csv('kickstarter2018.csv')"
      ],
      "execution_count": 0,
      "outputs": []
    },
    {
      "cell_type": "code",
      "metadata": {
        "id": "IHzwKVaXl3q_",
        "colab_type": "code",
        "outputId": "39ab3c27-c07c-4c2f-cf6a-8e97140d88c5",
        "colab": {
          "base_uri": "https://localhost:8080/",
          "height": 297
        }
      },
      "source": [
        "df.head()"
      ],
      "execution_count": 0,
      "outputs": [
        {
          "output_type": "execute_result",
          "data": {
            "text/html": [
              "<div>\n",
              "<style scoped>\n",
              "    .dataframe tbody tr th:only-of-type {\n",
              "        vertical-align: middle;\n",
              "    }\n",
              "\n",
              "    .dataframe tbody tr th {\n",
              "        vertical-align: top;\n",
              "    }\n",
              "\n",
              "    .dataframe thead th {\n",
              "        text-align: right;\n",
              "    }\n",
              "</style>\n",
              "<table border=\"1\" class=\"dataframe\">\n",
              "  <thead>\n",
              "    <tr style=\"text-align: right;\">\n",
              "      <th></th>\n",
              "      <th>ID</th>\n",
              "      <th>name</th>\n",
              "      <th>category</th>\n",
              "      <th>main_category</th>\n",
              "      <th>currency</th>\n",
              "      <th>deadline</th>\n",
              "      <th>goal</th>\n",
              "      <th>launched</th>\n",
              "      <th>pledged</th>\n",
              "      <th>state</th>\n",
              "      <th>backers</th>\n",
              "      <th>country</th>\n",
              "      <th>usd pledged</th>\n",
              "      <th>usd_pledged_real</th>\n",
              "      <th>usd_goal_real</th>\n",
              "    </tr>\n",
              "  </thead>\n",
              "  <tbody>\n",
              "    <tr>\n",
              "      <th>0</th>\n",
              "      <td>1000002330</td>\n",
              "      <td>The Songs of Adelaide &amp; Abullah</td>\n",
              "      <td>Poetry</td>\n",
              "      <td>Publishing</td>\n",
              "      <td>GBP</td>\n",
              "      <td>2015-10-09</td>\n",
              "      <td>1000.0</td>\n",
              "      <td>2015-08-11 12:12:28</td>\n",
              "      <td>0.0</td>\n",
              "      <td>failed</td>\n",
              "      <td>0</td>\n",
              "      <td>GB</td>\n",
              "      <td>0.0</td>\n",
              "      <td>0.0</td>\n",
              "      <td>1533.95</td>\n",
              "    </tr>\n",
              "    <tr>\n",
              "      <th>1</th>\n",
              "      <td>1000003930</td>\n",
              "      <td>Greeting From Earth: ZGAC Arts Capsule For ET</td>\n",
              "      <td>Narrative Film</td>\n",
              "      <td>Film &amp; Video</td>\n",
              "      <td>USD</td>\n",
              "      <td>2017-11-01</td>\n",
              "      <td>30000.0</td>\n",
              "      <td>2017-09-02 04:43:57</td>\n",
              "      <td>2421.0</td>\n",
              "      <td>failed</td>\n",
              "      <td>15</td>\n",
              "      <td>US</td>\n",
              "      <td>100.0</td>\n",
              "      <td>2421.0</td>\n",
              "      <td>30000.00</td>\n",
              "    </tr>\n",
              "    <tr>\n",
              "      <th>2</th>\n",
              "      <td>1000004038</td>\n",
              "      <td>Where is Hank?</td>\n",
              "      <td>Narrative Film</td>\n",
              "      <td>Film &amp; Video</td>\n",
              "      <td>USD</td>\n",
              "      <td>2013-02-26</td>\n",
              "      <td>45000.0</td>\n",
              "      <td>2013-01-12 00:20:50</td>\n",
              "      <td>220.0</td>\n",
              "      <td>failed</td>\n",
              "      <td>3</td>\n",
              "      <td>US</td>\n",
              "      <td>220.0</td>\n",
              "      <td>220.0</td>\n",
              "      <td>45000.00</td>\n",
              "    </tr>\n",
              "    <tr>\n",
              "      <th>3</th>\n",
              "      <td>1000007540</td>\n",
              "      <td>ToshiCapital Rekordz Needs Help to Complete Album</td>\n",
              "      <td>Music</td>\n",
              "      <td>Music</td>\n",
              "      <td>USD</td>\n",
              "      <td>2012-04-16</td>\n",
              "      <td>5000.0</td>\n",
              "      <td>2012-03-17 03:24:11</td>\n",
              "      <td>1.0</td>\n",
              "      <td>failed</td>\n",
              "      <td>1</td>\n",
              "      <td>US</td>\n",
              "      <td>1.0</td>\n",
              "      <td>1.0</td>\n",
              "      <td>5000.00</td>\n",
              "    </tr>\n",
              "    <tr>\n",
              "      <th>4</th>\n",
              "      <td>1000011046</td>\n",
              "      <td>Community Film Project: The Art of Neighborhoo...</td>\n",
              "      <td>Film &amp; Video</td>\n",
              "      <td>Film &amp; Video</td>\n",
              "      <td>USD</td>\n",
              "      <td>2015-08-29</td>\n",
              "      <td>19500.0</td>\n",
              "      <td>2015-07-04 08:35:03</td>\n",
              "      <td>1283.0</td>\n",
              "      <td>canceled</td>\n",
              "      <td>14</td>\n",
              "      <td>US</td>\n",
              "      <td>1283.0</td>\n",
              "      <td>1283.0</td>\n",
              "      <td>19500.00</td>\n",
              "    </tr>\n",
              "  </tbody>\n",
              "</table>\n",
              "</div>"
            ],
            "text/plain": [
              "           ID  ... usd_goal_real\n",
              "0  1000002330  ...       1533.95\n",
              "1  1000003930  ...      30000.00\n",
              "2  1000004038  ...      45000.00\n",
              "3  1000007540  ...       5000.00\n",
              "4  1000011046  ...      19500.00\n",
              "\n",
              "[5 rows x 15 columns]"
            ]
          },
          "metadata": {
            "tags": []
          },
          "execution_count": 4
        }
      ]
    },
    {
      "cell_type": "code",
      "metadata": {
        "id": "FVyia1903Fy0",
        "colab_type": "code",
        "colab": {
          "base_uri": "https://localhost:8080/",
          "height": 34
        },
        "outputId": "7892ead1-1b70-45d0-f997-15597ac2c875"
      },
      "source": [
        "df[\"state\"].unique().tolist()"
      ],
      "execution_count": 82,
      "outputs": [
        {
          "output_type": "execute_result",
          "data": {
            "text/plain": [
              "['failed', 'canceled', 'successful', 'live', 'undefined', 'suspended']"
            ]
          },
          "metadata": {
            "tags": []
          },
          "execution_count": 82
        }
      ]
    },
    {
      "cell_type": "code",
      "metadata": {
        "id": "59FEz9WHqVBx",
        "colab_type": "code",
        "outputId": "55f80ef0-985d-48a1-abb1-23514d005021",
        "colab": {
          "base_uri": "https://localhost:8080/",
          "height": 34
        }
      },
      "source": [
        "df.shape"
      ],
      "execution_count": 0,
      "outputs": [
        {
          "output_type": "execute_result",
          "data": {
            "text/plain": [
              "(378661, 15)"
            ]
          },
          "metadata": {
            "tags": []
          },
          "execution_count": 49
        }
      ]
    },
    {
      "cell_type": "code",
      "metadata": {
        "id": "_RhD61FkpVnG",
        "colab_type": "code",
        "outputId": "57cd94d0-8760-4328-b09e-625d0db50a85",
        "colab": {
          "base_uri": "https://localhost:8080/",
          "height": 374
        }
      },
      "source": [
        "print(df.info())"
      ],
      "execution_count": 0,
      "outputs": [
        {
          "output_type": "stream",
          "text": [
            "<class 'pandas.core.frame.DataFrame'>\n",
            "RangeIndex: 378661 entries, 0 to 378660\n",
            "Data columns (total 15 columns):\n",
            "ID                  378661 non-null int64\n",
            "name                378657 non-null object\n",
            "category            378661 non-null object\n",
            "main_category       378661 non-null object\n",
            "currency            378661 non-null object\n",
            "deadline            378661 non-null object\n",
            "goal                378661 non-null float64\n",
            "launched            378661 non-null object\n",
            "pledged             378661 non-null float64\n",
            "state               378661 non-null object\n",
            "backers             378661 non-null int64\n",
            "country             378661 non-null object\n",
            "usd pledged         374864 non-null float64\n",
            "usd_pledged_real    378661 non-null float64\n",
            "usd_goal_real       378661 non-null float64\n",
            "dtypes: float64(5), int64(2), object(8)\n",
            "memory usage: 43.3+ MB\n",
            "None\n"
          ],
          "name": "stdout"
        }
      ]
    },
    {
      "cell_type": "code",
      "metadata": {
        "id": "A6ZdhKzCqGfh",
        "colab_type": "code",
        "outputId": "ca6476fa-ae5b-40ff-a911-d54118b0a7aa",
        "colab": {
          "base_uri": "https://localhost:8080/",
          "height": 408
        }
      },
      "source": [
        "percentual_success = round(df[\"state\"].value_counts() / len(df[\"state\"]) * 100,2)\n",
        "\n",
        "print(\"State Percentual in %: \")\n",
        "print(percentual_success)\n",
        "\n",
        "state = round(df[\"state\"].value_counts() / len(df[\"state\"]) * 100,2)\n",
        "\n",
        "labels = list(state.index)\n",
        "values = list(state.values)\n",
        "\n",
        "explode = (0.1, 0 , 0, 0 ,0 ,0)\n",
        "\n",
        "print(percentual_success[\"failed\"])\n",
        "\n",
        "trace1 = plt.pie(values, explode = explode, labels=labels, autopct='%1.1f%%',\n",
        "        shadow=True, startangle=90)\n",
        "\n",
        "plt.show()"
      ],
      "execution_count": 98,
      "outputs": [
        {
          "output_type": "stream",
          "text": [
            "State Percentual in %: \n",
            "failed        52.22\n",
            "successful    35.38\n",
            "canceled      10.24\n",
            "undefined      0.94\n",
            "live           0.74\n",
            "suspended      0.49\n",
            "Name: state, dtype: float64\n",
            "52.22\n"
          ],
          "name": "stdout"
        },
        {
          "output_type": "display_data",
          "data": {
            "image/png": "[encoded data removed]",
            "text/plain": [
              "<Figure size 432x288 with 1 Axes>"
            ]
          },
          "metadata": {
            "tags": []
          }
        }
      ]
    },
    {
      "cell_type": "code",
      "metadata": {
        "id": "1Oli2ki56tz_",
        "colab_type": "code",
        "colab": {
          "base_uri": "https://localhost:8080/",
          "height": 611
        },
        "outputId": "9e1bfc68-8278-4dc7-ab48-e43e06ce95cf"
      },
      "source": [
        "principais_categorias = df[\"main_category\"].value_counts()\n",
        "principais_categorias_fail = df[df[\"state\"].isin([\"failed\",\"canceled\",\"suspended\"])][\"main_category\"].value_counts()\n",
        "principais_categorias_sucesso = df[df[\"state\"] == \"successful\"][\"main_category\"].value_counts()\n",
        "color = ['blue', 'orange', 'green', 'red', 'purple', 'brown', 'pink', 'gray', 'cyan', 'black']\n",
        "\n",
        "print(\"Nro. de projetos por Categoria: \")\n",
        "print(principais_categorias)\n",
        "\n",
        "principais_categorias.plot.bar(color = color)\n",
        "plt.show()"
      ],
      "execution_count": 131,
      "outputs": [
        {
          "output_type": "stream",
          "text": [
            "Nro. de projetos por Categoria: \n",
            "Film & Video    63585\n",
            "Music           51918\n",
            "Publishing      39874\n",
            "Games           35231\n",
            "Technology      32569\n",
            "Design          30070\n",
            "Art             28153\n",
            "Food            24602\n",
            "Fashion         22816\n",
            "Theater         10913\n",
            "Comics          10819\n",
            "Photography     10779\n",
            "Crafts           8809\n",
            "Journalism       4755\n",
            "Dance            3768\n",
            "Name: main_category, dtype: int64\n"
          ],
          "name": "stdout"
        },
        {
          "output_type": "display_data",
          "data": {
            "image/png": "[encoded data removed]",
            "text/plain": [
              "<Figure size 432x288 with 1 Axes>"
            ]
          },
          "metadata": {
            "tags": []
          }
        }
      ]
    },
    {
      "cell_type": "code",
      "metadata": {
        "id": "BmpiH5gk_dNO",
        "colab_type": "code",
        "colab": {
          "base_uri": "https://localhost:8080/",
          "height": 611
        },
        "outputId": "c33d2bea-e0b4-4b95-9462-6dfe27e4eb1d"
      },
      "source": [
        "print(\"Nro. de projetos por Categoria que falharam: \")\n",
        "print(principais_categorias_fail)\n",
        "\n",
        "principais_categorias_fail.plot.bar(color = color)\n",
        "plt.show()"
      ],
      "execution_count": 123,
      "outputs": [
        {
          "output_type": "stream",
          "text": [
            "Nro. de projetos por Categoria que falharam: \n",
            "Film & Video    38776\n",
            "Publishing      26813\n",
            "Technology      25755\n",
            "Music           25206\n",
            "Games           22425\n",
            "Design          19213\n",
            "Food            18333\n",
            "Fashion         16970\n",
            "Art             16449\n",
            "Photography      7425\n",
            "Crafts           6618\n",
            "Comics           4901\n",
            "Theater          4337\n",
            "Journalism       3712\n",
            "Dance            1411\n",
            "Name: main_category, dtype: int64\n"
          ],
          "name": "stdout"
        },
        {
          "output_type": "display_data",
          "data": {
            "image/png": "[encoded data removed]",
            "text/plain": [
              "<Figure size 432x288 with 1 Axes>"
            ]
          },
          "metadata": {
            "tags": []
          }
        }
      ]
    },
    {
      "cell_type": "code",
      "metadata": {
        "id": "lg39Sw1CB6mo",
        "colab_type": "code",
        "colab": {
          "base_uri": "https://localhost:8080/",
          "height": 611
        },
        "outputId": "ac9327fe-04ff-4e15-fd3f-74a024a8b0a5"
      },
      "source": [
        "print(\"Nro. de projetos por Categoria que obtiveram sucesso: \")\n",
        "print(principais_categorias_sucesso)\n",
        "\n",
        "principais_categorias_sucesso.plot.bar(color = color)\n",
        "plt.show()"
      ],
      "execution_count": 124,
      "outputs": [
        {
          "output_type": "stream",
          "text": [
            "Nro. de projetos por Categoria que obtiveram sucesso: \n",
            "Music           24197\n",
            "Film & Video    23623\n",
            "Games           12518\n",
            "Publishing      12300\n",
            "Art             11510\n",
            "Design          10550\n",
            "Theater          6534\n",
            "Technology       6434\n",
            "Food             6085\n",
            "Comics           5842\n",
            "Fashion          5593\n",
            "Photography      3305\n",
            "Dance            2338\n",
            "Crafts           2115\n",
            "Journalism       1012\n",
            "Name: main_category, dtype: int64\n"
          ],
          "name": "stdout"
        },
        {
          "output_type": "display_data",
          "data": {
            "image/png": "[encoded data removed]",
            "text/plain": [
              "<Figure size 432x288 with 1 Axes>"
            ]
          },
          "metadata": {
            "tags": []
          }
        }
      ]
    },
    {
      "cell_type": "code",
      "metadata": {
        "id": "am60fFd8DwLP",
        "colab_type": "code",
        "colab": {
          "base_uri": "https://localhost:8080/",
          "height": 537
        },
        "outputId": "ae1e270d-2e26-428a-86f9-525275ee41fc"
      },
      "source": [
        "principais_moedas = df[\"currency\"].value_counts()\n",
        "print(principais_moedas)\n",
        "\n",
        "principais_moedas.plot.bar(color = color)\n",
        "plt.show()"
      ],
      "execution_count": 132,
      "outputs": [
        {
          "output_type": "stream",
          "text": [
            "USD    295365\n",
            "GBP     34132\n",
            "EUR     17405\n",
            "CAD     14962\n",
            "AUD      7950\n",
            "SEK      1788\n",
            "MXN      1752\n",
            "NZD      1475\n",
            "DKK      1129\n",
            "CHF       768\n",
            "NOK       722\n",
            "HKD       618\n",
            "SGD       555\n",
            "JPY        40\n",
            "Name: currency, dtype: int64\n"
          ],
          "name": "stdout"
        },
        {
          "output_type": "display_data",
          "data": {
            "image/png": "[encoded data removed]",
            "text/plain": [
              "<Figure size 432x288 with 1 Axes>"
            ]
          },
          "metadata": {
            "tags": []
          }
        }
      ]
    }
  ]
}