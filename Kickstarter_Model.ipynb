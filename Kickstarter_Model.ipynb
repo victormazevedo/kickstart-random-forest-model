{
  "nbformat": 4,
  "nbformat_minor": 0,
  "metadata": {
    "colab": {
      "name": "Kickstarter_Model.ipynb",
      "version": "0.3.2",
      "provenance": [],
      "collapsed_sections": [],
      "toc_visible": true,
      "include_colab_link": true
    },
    "kernelspec": {
      "name": "python3",
      "display_name": "Python 3"
    }
  },
  "cells": [
    {
      "cell_type": "markdown",
      "metadata": {
        "id": "view-in-github",
        "colab_type": "text"
      },
      "source": [
        "<a href=\"https://colab.research.google.com/github/victormazevedo/kickstart-random-forest-model/blob/master/Kickstarter_Model.ipynb\" target=\"_parent\"><img src=\"https://colab.research.google.com/assets/colab-badge.svg\" alt=\"Open In Colab\"/></a>"
      ]
    },
    {
      "cell_type": "markdown",
      "metadata": {
        "id": "JvQHADu6mL9v",
        "colab_type": "text"
      },
      "source": [
        "# Kickstarter 2018 Model\n",
        "\n",
        "Este projeto é destinado à disciplina de Inteligência Artificial, ministrada pelo docente Lucas Figueira Baggio. O objetivo deste projeto é realizar uma série de estudos a respeito da plataforma *Kickstarter*, utilizando *Random Forest* para classificar se um projeto terá ou não sucesso, com base em seu *dataset* obtido do [Kaggle](https://www.kaggle.com/kemical/kickstarter-projects).\n",
        "\n",
        "*Kickstarter* é a maior plataforma de financiamento coletivo do mundo que está sempre buscando apoiar projetos inovadores e independentes, podendo assim empoderar pequenos, mas criativos, desenvolvedores, artistas e músicos."
      ]
    },
    {
      "cell_type": "markdown",
      "metadata": {
        "id": "-r-Un-SVDqVQ",
        "colab_type": "text"
      },
      "source": [
        "# Importando as blibliotecas necessárias\n",
        "\n",
        "É necessário fazer o *import* do:\n",
        "\n",
        "*   [Pandas](https://pandas.pydata.org/) para manipulação dos dados;\n",
        "*   [Matplotlib](https://matplotlib.org/) para a plotagem de gráficos;\n",
        "\n",
        "\n",
        "\n",
        "\n"
      ]
    },
    {
      "cell_type": "code",
      "metadata": {
        "id": "FLqU7V9BiHJz",
        "colab_type": "code",
        "colab": {}
      },
      "source": [
        "import pandas as pd\n",
        "import matplotlib.pyplot as plt\n",
        "from sklearn.ensemble import RandomForestClassifier"
      ],
      "execution_count": 0,
      "outputs": []
    },
    {
      "cell_type": "markdown",
      "metadata": {
        "id": "1pjpvUa2Dutw",
        "colab_type": "text"
      },
      "source": [
        "# Primeiro passo\n",
        "Primeiramente, é necessário realizar o *upload* do arquivo .csv referente ao *dataset* que será utilizado. Neste projeto, será utilizado um *dataset* proveniente do *Kaggle* no qual contém as informações de todos os projetos do ano de 2018 do *Kickstarter*. Após o arquivo em mãos, realizar o *upload* do mesmo no *Dropbox*, porém atentar-se ao compartilhamento público!\n",
        "\n",
        "Após o passo acima, realize uma conexão via *!wget*  ao *Dropbox* inserindo o link gerado no *Dropbox*.\n",
        "\n",
        "Feito isso, criei uma variável de nome *df* e nela utilizei o recurso do *Pandas* para a leitura de um arquivo .csv. Dentro do mesmo inseri o nome do csv desejado."
      ]
    },
    {
      "cell_type": "code",
      "metadata": {
        "id": "Iyj4ZUE3DTmu",
        "colab_type": "code",
        "outputId": "caa4b80d-33a4-4ed3-a7c2-12a346560ce3",
        "colab": {
          "base_uri": "https://localhost:8080/",
          "height": 377
        }
      },
      "source": [
        "!wget 'https://www.dropbox.com/s/g6qtxm3va3h50pi/ks-projects-201801.csv?dl=0'\n",
        "df = pd.read_csv('ks-projects-201801.csv?dl=0')"
      ],
      "execution_count": 0,
      "outputs": [
        {
          "output_type": "stream",
          "text": [
            "--2019-06-10 12:15:24--  https://www.dropbox.com/s/g6qtxm3va3h50pi/ks-projects-201801.csv?dl=0\n",
            "Resolving www.dropbox.com (www.dropbox.com)... 162.125.1.1, 2620:100:6016:1::a27d:101\n",
            "Connecting to www.dropbox.com (www.dropbox.com)|162.125.1.1|:443... connected.\n",
            "HTTP request sent, awaiting response... 301 Moved Permanently\n",
            "Location: /s/raw/g6qtxm3va3h50pi/ks-projects-201801.csv [following]\n",
            "--2019-06-10 12:15:24--  https://www.dropbox.com/s/raw/g6qtxm3va3h50pi/ks-projects-201801.csv\n",
            "Reusing existing connection to www.dropbox.com:443.\n",
            "HTTP request sent, awaiting response... 302 Found\n",
            "Location: https://ucbf6b8b5ee13624abc9be23fa02.dl.dropboxusercontent.com/cd/0/inline/AihloW2TrkSI7hRHW22VkWrNxDOty_s9VkLYhtIQ_xSvPiodug8eG4b3ODR0T3QSV-BchZPWjTJzlnRQ83ovOX5geALA_wocVfAkM65RLqzBXQ/file# [following]\n",
            "--2019-06-10 12:15:24--  https://ucbf6b8b5ee13624abc9be23fa02.dl.dropboxusercontent.com/cd/0/inline/AihloW2TrkSI7hRHW22VkWrNxDOty_s9VkLYhtIQ_xSvPiodug8eG4b3ODR0T3QSV-BchZPWjTJzlnRQ83ovOX5geALA_wocVfAkM65RLqzBXQ/file\n",
            "Resolving ucbf6b8b5ee13624abc9be23fa02.dl.dropboxusercontent.com (ucbf6b8b5ee13624abc9be23fa02.dl.dropboxusercontent.com)... 162.125.1.6, 2620:100:6016:6::a27d:106\n",
            "Connecting to ucbf6b8b5ee13624abc9be23fa02.dl.dropboxusercontent.com (ucbf6b8b5ee13624abc9be23fa02.dl.dropboxusercontent.com)|162.125.1.6|:443... connected.\n",
            "HTTP request sent, awaiting response... 200 OK\n",
            "Length: 58030359 (55M) [text/plain]\n",
            "Saving to: ‘ks-projects-201801.csv?dl=0’\n",
            "\n",
            "ks-projects-201801. 100%[===================>]  55.34M  64.4MB/s    in 0.9s    \n",
            "\n",
            "2019-06-10 12:15:25 (64.4 MB/s) - ‘ks-projects-201801.csv?dl=0’ saved [58030359/58030359]\n",
            "\n"
          ],
          "name": "stdout"
        }
      ]
    },
    {
      "cell_type": "markdown",
      "metadata": {
        "id": "W9nWYdCYXh3-",
        "colab_type": "text"
      },
      "source": [
        "# Verificando o dataset e seus atributos\n",
        "\n",
        "Realizando um *head()* para nos mostrar as cinco primeiras linhas do dataset e observar suar variáveis e dados."
      ]
    },
    {
      "cell_type": "code",
      "metadata": {
        "id": "IHzwKVaXl3q_",
        "colab_type": "code",
        "outputId": "35d524bf-41fa-4e03-f574-4b6fbe7da72c",
        "colab": {
          "base_uri": "https://localhost:8080/",
          "height": 357
        }
      },
      "source": [
        "df.head()"
      ],
      "execution_count": 0,
      "outputs": [
        {
          "output_type": "execute_result",
          "data": {
            "text/html": [
              "<div>\n",
              "<style scoped>\n",
              "    .dataframe tbody tr th:only-of-type {\n",
              "        vertical-align: middle;\n",
              "    }\n",
              "\n",
              "    .dataframe tbody tr th {\n",
              "        vertical-align: top;\n",
              "    }\n",
              "\n",
              "    .dataframe thead th {\n",
              "        text-align: right;\n",
              "    }\n",
              "</style>\n",
              "<table border=\"1\" class=\"dataframe\">\n",
              "  <thead>\n",
              "    <tr style=\"text-align: right;\">\n",
              "      <th></th>\n",
              "      <th>ID</th>\n",
              "      <th>name</th>\n",
              "      <th>category</th>\n",
              "      <th>main_category</th>\n",
              "      <th>currency</th>\n",
              "      <th>deadline</th>\n",
              "      <th>goal</th>\n",
              "      <th>launched</th>\n",
              "      <th>pledged</th>\n",
              "      <th>state</th>\n",
              "      <th>backers</th>\n",
              "      <th>country</th>\n",
              "      <th>usd pledged</th>\n",
              "      <th>usd_pledged_real</th>\n",
              "      <th>usd_goal_real</th>\n",
              "    </tr>\n",
              "  </thead>\n",
              "  <tbody>\n",
              "    <tr>\n",
              "      <th>0</th>\n",
              "      <td>1000002330</td>\n",
              "      <td>The Songs of Adelaide &amp; Abullah</td>\n",
              "      <td>Poetry</td>\n",
              "      <td>Publishing</td>\n",
              "      <td>GBP</td>\n",
              "      <td>2015-10-09</td>\n",
              "      <td>1000.0</td>\n",
              "      <td>2015-08-11 12:12:28</td>\n",
              "      <td>0.0</td>\n",
              "      <td>failed</td>\n",
              "      <td>0</td>\n",
              "      <td>GB</td>\n",
              "      <td>0.0</td>\n",
              "      <td>0.0</td>\n",
              "      <td>1533.95</td>\n",
              "    </tr>\n",
              "    <tr>\n",
              "      <th>1</th>\n",
              "      <td>1000003930</td>\n",
              "      <td>Greeting From Earth: ZGAC Arts Capsule For ET</td>\n",
              "      <td>Narrative Film</td>\n",
              "      <td>Film &amp; Video</td>\n",
              "      <td>USD</td>\n",
              "      <td>2017-11-01</td>\n",
              "      <td>30000.0</td>\n",
              "      <td>2017-09-02 04:43:57</td>\n",
              "      <td>2421.0</td>\n",
              "      <td>failed</td>\n",
              "      <td>15</td>\n",
              "      <td>US</td>\n",
              "      <td>100.0</td>\n",
              "      <td>2421.0</td>\n",
              "      <td>30000.00</td>\n",
              "    </tr>\n",
              "    <tr>\n",
              "      <th>2</th>\n",
              "      <td>1000004038</td>\n",
              "      <td>Where is Hank?</td>\n",
              "      <td>Narrative Film</td>\n",
              "      <td>Film &amp; Video</td>\n",
              "      <td>USD</td>\n",
              "      <td>2013-02-26</td>\n",
              "      <td>45000.0</td>\n",
              "      <td>2013-01-12 00:20:50</td>\n",
              "      <td>220.0</td>\n",
              "      <td>failed</td>\n",
              "      <td>3</td>\n",
              "      <td>US</td>\n",
              "      <td>220.0</td>\n",
              "      <td>220.0</td>\n",
              "      <td>45000.00</td>\n",
              "    </tr>\n",
              "    <tr>\n",
              "      <th>3</th>\n",
              "      <td>1000007540</td>\n",
              "      <td>ToshiCapital Rekordz Needs Help to Complete Album</td>\n",
              "      <td>Music</td>\n",
              "      <td>Music</td>\n",
              "      <td>USD</td>\n",
              "      <td>2012-04-16</td>\n",
              "      <td>5000.0</td>\n",
              "      <td>2012-03-17 03:24:11</td>\n",
              "      <td>1.0</td>\n",
              "      <td>failed</td>\n",
              "      <td>1</td>\n",
              "      <td>US</td>\n",
              "      <td>1.0</td>\n",
              "      <td>1.0</td>\n",
              "      <td>5000.00</td>\n",
              "    </tr>\n",
              "    <tr>\n",
              "      <th>4</th>\n",
              "      <td>1000011046</td>\n",
              "      <td>Community Film Project: The Art of Neighborhoo...</td>\n",
              "      <td>Film &amp; Video</td>\n",
              "      <td>Film &amp; Video</td>\n",
              "      <td>USD</td>\n",
              "      <td>2015-08-29</td>\n",
              "      <td>19500.0</td>\n",
              "      <td>2015-07-04 08:35:03</td>\n",
              "      <td>1283.0</td>\n",
              "      <td>canceled</td>\n",
              "      <td>14</td>\n",
              "      <td>US</td>\n",
              "      <td>1283.0</td>\n",
              "      <td>1283.0</td>\n",
              "      <td>19500.00</td>\n",
              "    </tr>\n",
              "  </tbody>\n",
              "</table>\n",
              "</div>"
            ],
            "text/plain": [
              "           ID  ... usd_goal_real\n",
              "0  1000002330  ...       1533.95\n",
              "1  1000003930  ...      30000.00\n",
              "2  1000004038  ...      45000.00\n",
              "3  1000007540  ...       5000.00\n",
              "4  1000011046  ...      19500.00\n",
              "\n",
              "[5 rows x 15 columns]"
            ]
          },
          "metadata": {
            "tags": []
          },
          "execution_count": 3
        }
      ]
    },
    {
      "cell_type": "markdown",
      "metadata": {
        "id": "Rb-r3GmVf-Dw",
        "colab_type": "text"
      },
      "source": [
        "# Explicando cada coluna e seus devidos dados\n",
        "\n",
        "Executando o *info*, perecebe-se que o dataset contém um total de 378661 linhas divididas em 15 colunas. Cada coluna representa um tipo de informação:\n",
        "\n",
        "*   **ID:** é o número de identificação interno gerado na *Kickstarter*;\n",
        "*   **name:** nome do projeto. O projeto nada mais é do que um trabalho que tem um fim e um determinado objetivo ( *goal*) a ser atingido. Pode ser fotografias, albuns musicais, vídeos, etc.;\n",
        "*   **category:** neste *datset* a categoria se corresponde como uma sub-categoria das categorias principais. Por exemplo: tem-se a categoria *Film & Video* e dentro dela uma subcategoria *Documentary*;\n",
        "*   **main_category:** é a categoria principal do projeto;\n",
        "*   **currency:** é a moeda usada para apoiar o projeto;\n",
        "*   **deadline:** é o prazo final de arrecadação de apoio ao projeot *crowdfunding*;\n",
        "*   **goal:** o *goal* nada mais é que o objetivo monetário do projeto para o criador concluí-lo;\n",
        "*   **launched:** data em que as arrecadações começaram;\n",
        "*   **pledged:** valor arrecadado na moeda do projeto;\n",
        "*   **state:** status do projeto;\n",
        "*   **backers:** número de apoiadores;\n",
        "*   **country:** o país do criador;\n",
        "*   **usd pledged:** valor arrecadado em dólares (conversão realizada pelo *Kickstarter*);\n",
        "*   **usd_pledged_real:** valor arrecadado em dólares convertido utilizando [Fixer API](https://fixer.io/);\n",
        "*   **usd_goal_real:** a meta de arrecadação convertida em dólar;\n",
        "\n",
        "\n",
        "\n",
        "\n",
        "\n",
        "\n"
      ]
    },
    {
      "cell_type": "code",
      "metadata": {
        "id": "jO_XlNObf2MI",
        "colab_type": "code",
        "outputId": "da727882-1d6b-4920-d7c2-7324174ade54",
        "colab": {
          "base_uri": "https://localhost:8080/",
          "height": 374
        }
      },
      "source": [
        "print(df.info())"
      ],
      "execution_count": 0,
      "outputs": [
        {
          "output_type": "stream",
          "text": [
            "<class 'pandas.core.frame.DataFrame'>\n",
            "RangeIndex: 378661 entries, 0 to 378660\n",
            "Data columns (total 15 columns):\n",
            "ID                  378661 non-null int64\n",
            "name                378657 non-null object\n",
            "category            378661 non-null object\n",
            "main_category       378661 non-null object\n",
            "currency            378661 non-null object\n",
            "deadline            378661 non-null object\n",
            "goal                378661 non-null float64\n",
            "launched            378661 non-null object\n",
            "pledged             378661 non-null float64\n",
            "state               378661 non-null object\n",
            "backers             378661 non-null int64\n",
            "country             378661 non-null object\n",
            "usd pledged         374864 non-null float64\n",
            "usd_pledged_real    378661 non-null float64\n",
            "usd_goal_real       378661 non-null float64\n",
            "dtypes: float64(5), int64(2), object(8)\n",
            "memory usage: 43.3+ MB\n",
            "None\n"
          ],
          "name": "stdout"
        }
      ]
    },
    {
      "cell_type": "markdown",
      "metadata": {
        "id": "A4b7hCVA-PFk",
        "colab_type": "text"
      },
      "source": [
        "# Gráfico Distribuição de Status dos Projetos\n",
        "\n",
        "Realizando a plotagem do gráfico em pizza, verifica-se que de todos os projetos, 52.2% falham e 35.4% conseguem sucesso.\n",
        "\n",
        "Demais informações dos outros status abaixo.\n",
        "\n",
        "Todos os gráficos do projeto foram realizados utilizando *matplotlib*"
      ]
    },
    {
      "cell_type": "code",
      "metadata": {
        "id": "A6ZdhKzCqGfh",
        "colab_type": "code",
        "outputId": "32e20fff-9831-49c7-a316-8fbee253e37d",
        "colab": {
          "base_uri": "https://localhost:8080/",
          "height": 638
        }
      },
      "source": [
        "percentual_de_sucesso = round(df[\"state\"].value_counts() / len(df[\"state\"]) * 100,2)\n",
        "\n",
        "print(\"Pecentual de status em %: \")\n",
        "print(percentual_de_sucesso)\n",
        "\n",
        "state = round(df[\"state\"].value_counts() / len(df[\"state\"]) * 100,2)\n",
        "\n",
        "labels = list(state.index)\n",
        "values = list(state.values)\n",
        "\n",
        "fig1, ax1 = plt.subplots(figsize=(8, 8))\n",
        "\n",
        "explode = (0.1, 0 , 0, 0 ,0 ,0)\n",
        "\n",
        "print(percentual_success[\"failed\"])\n",
        "\n",
        "ax1.pie(values, explode = explode, labels=labels, autopct='%1.1f%%',\n",
        "        shadow=True, startangle=10, labeldistance=1.1)\n",
        "\n",
        "ax1.axis('equal')\n",
        "ax1.set_title(\"Distribuição dos Status\")\n",
        "plt.show()"
      ],
      "execution_count": 0,
      "outputs": [
        {
          "output_type": "stream",
          "text": [
            "Pecentual de status em %: \n",
            "failed        52.22\n",
            "successful    35.38\n",
            "canceled      10.24\n",
            "undefined      0.94\n",
            "live           0.74\n",
            "suspended      0.49\n",
            "Name: state, dtype: float64\n",
            "52.22\n"
          ],
          "name": "stdout"
        },
        {
          "output_type": "display_data",
          "data": {
            "image/png": "[encoded data removed]",
            "text/plain": [
              "<Figure size 576x576 with 1 Axes>"
            ]
          },
          "metadata": {
            "tags": []
          }
        }
      ]
    },
    {
      "cell_type": "markdown",
      "metadata": {
        "id": "oe5HNhCdjI9i",
        "colab_type": "text"
      },
      "source": [
        "# Gráfico número de projetos por Categoria Principal\n",
        "\n",
        "Neste gráfico, é realizado um estudo para verificar as 15 categorias em que mais são submetidos projetos. Observa-se que a categoria *Film & Video* está em primeiro lugar. Lembre-se: dentro de cada Categoria, há uma sub-categoria. Abaixo mais informações sobre as sub-categorias.\n",
        "\n",
        "O gráfico em barras foi plotado utilizando *matplotlib*."
      ]
    },
    {
      "cell_type": "code",
      "metadata": {
        "id": "1Oli2ki56tz_",
        "colab_type": "code",
        "outputId": "c130f852-72b6-4010-88e6-2535cbcda4f9",
        "colab": {
          "base_uri": "https://localhost:8080/",
          "height": 624
        }
      },
      "source": [
        "principais_categorias = df[\"main_category\"].value_counts()\n",
        "principais_categorias_fail = df[df[\"state\"].isin([\"failed\",\"canceled\",\"suspended\"])][\"main_category\"].value_counts()\n",
        "principais_categorias_sucesso = df[df[\"state\"] == \"successful\"][\"main_category\"].value_counts()\n",
        "color = ['blue', 'orange', 'green', 'red', 'purple', 'brown', 'pink', 'gray', 'cyan', 'black']\n",
        "\n",
        "print(\"Nro. de projetos por Categoria: \")\n",
        "print(principais_categorias)\n",
        "\n",
        "principais_categorias.plot.bar(color = color)\n",
        "plt.title(\"Nro. de Projetos por Categoria Principal\")\n",
        "plt.show()"
      ],
      "execution_count": 0,
      "outputs": [
        {
          "output_type": "stream",
          "text": [
            "Nro. de projetos por Categoria: \n",
            "Film & Video    63585\n",
            "Music           51918\n",
            "Publishing      39874\n",
            "Games           35231\n",
            "Technology      32569\n",
            "Design          30070\n",
            "Art             28153\n",
            "Food            24602\n",
            "Fashion         22816\n",
            "Theater         10913\n",
            "Comics          10819\n",
            "Photography     10779\n",
            "Crafts           8809\n",
            "Journalism       4755\n",
            "Dance            3768\n",
            "Name: main_category, dtype: int64\n"
          ],
          "name": "stdout"
        },
        {
          "output_type": "display_data",
          "data": {
            "image/png": "[encoded data removed]",
            "text/plain": [
              "<Figure size 432x288 with 1 Axes>"
            ]
          },
          "metadata": {
            "tags": []
          }
        }
      ]
    },
    {
      "cell_type": "markdown",
      "metadata": {
        "id": "aulQK7elr4Ej",
        "colab_type": "text"
      },
      "source": [
        "# Gráfico número de projetos que falharam por Caregoria Principal\n",
        "\n",
        "Neste gráfico, observa-se que, assim como acima é visto que a categoria *Film & Video* está em primeiro lugar no número de projetos no geral, ela também está em primeiro lugar nos projetos que falharam.\n"
      ]
    },
    {
      "cell_type": "code",
      "metadata": {
        "id": "BmpiH5gk_dNO",
        "colab_type": "code",
        "outputId": "b7da332c-e38b-48c5-e434-9293d11d870f",
        "colab": {
          "base_uri": "https://localhost:8080/",
          "height": 624
        }
      },
      "source": [
        "print(\"Nro. de projetos que falharam por Categoria: \")\n",
        "print(principais_categorias_fail)\n",
        "\n",
        "principais_categorias_fail.plot.bar(color = color)\n",
        "plt.title(\"Nro. de projetos que falharam por Categoria Principal\")\n",
        "plt.show()"
      ],
      "execution_count": 0,
      "outputs": [
        {
          "output_type": "stream",
          "text": [
            "Nro. de projetos que falharam por Categoria: \n",
            "Film & Video    38776\n",
            "Publishing      26813\n",
            "Technology      25755\n",
            "Music           25206\n",
            "Games           22425\n",
            "Design          19213\n",
            "Food            18333\n",
            "Fashion         16970\n",
            "Art             16449\n",
            "Photography      7425\n",
            "Crafts           6618\n",
            "Comics           4901\n",
            "Theater          4337\n",
            "Journalism       3712\n",
            "Dance            1411\n",
            "Name: main_category, dtype: int64\n"
          ],
          "name": "stdout"
        },
        {
          "output_type": "display_data",
          "data": {
            "image/png": "[encoded data removed]",
            "text/plain": [
              "<Figure size 432x288 with 1 Axes>"
            ]
          },
          "metadata": {
            "tags": []
          }
        }
      ]
    },
    {
      "cell_type": "markdown",
      "metadata": {
        "id": "PxN5AHnKuOFv",
        "colab_type": "text"
      },
      "source": [
        "# Gráfico número de projetos que obitveram sucesso por Caregoria Principal\n",
        "\n",
        "Neste gráfico, observa-se que, a categoria *Music* está em primeiro lugar das que obtiveram sucesso. Logo em seeguida, com pouca diferença, está *Film & Video*.\n"
      ]
    },
    {
      "cell_type": "code",
      "metadata": {
        "id": "lg39Sw1CB6mo",
        "colab_type": "code",
        "outputId": "5ef4cd4e-6856-40a7-cb42-5107652376a7",
        "colab": {
          "base_uri": "https://localhost:8080/",
          "height": 624
        }
      },
      "source": [
        "print(\"Nro. de projetos que obtiveram sucesso por Categoria : \")\n",
        "print(principais_categorias_sucesso)\n",
        "\n",
        "principais_categorias_sucesso.plot.bar(color = color)\n",
        "plt.title(\"Nro. de projetos que obtiveram sucesso por Categoria Principal\")\n",
        "plt.show()"
      ],
      "execution_count": 0,
      "outputs": [
        {
          "output_type": "stream",
          "text": [
            "Nro. de projetos que obtiveram sucesso por Categoria : \n",
            "Music           24197\n",
            "Film & Video    23623\n",
            "Games           12518\n",
            "Publishing      12300\n",
            "Art             11510\n",
            "Design          10550\n",
            "Theater          6534\n",
            "Technology       6434\n",
            "Food             6085\n",
            "Comics           5842\n",
            "Fashion          5593\n",
            "Photography      3305\n",
            "Dance            2338\n",
            "Crafts           2115\n",
            "Journalism       1012\n",
            "Name: main_category, dtype: int64\n"
          ],
          "name": "stdout"
        },
        {
          "output_type": "display_data",
          "data": {
            "image/png": "[encoded data removed]",
            "text/plain": [
              "<Figure size 432x288 with 1 Axes>"
            ]
          },
          "metadata": {
            "tags": []
          }
        }
      ]
    },
    {
      "cell_type": "code",
      "metadata": {
        "id": "mQpH1mDf1BHu",
        "colab_type": "code",
        "outputId": "30070138-c096-4c20-e5f6-2a785bbc0e05",
        "colab": {
          "base_uri": "https://localhost:8080/",
          "height": 728
        }
      },
      "source": [
        "top_20_sub_categorias_com_sucesso = df[df[\"state\"] == \"successful\"][\"category\"].value_counts().head(20)\n",
        "print(\"Nro. de Sub Categorias que obtiveram sucesso: \")\n",
        "print(top_20_sub_categorias_com_sucesso)\n",
        "\n",
        "top_20_sub_categorias_com_sucesso.plot.bar(color = color)\n",
        "plt.title(\"Nro. de Sub Categorias que obtiveram sucesso\")\n",
        "plt.show()"
      ],
      "execution_count": 0,
      "outputs": [
        {
          "output_type": "stream",
          "text": [
            "Nro. de Sub Categorias que obtiveram sucesso: \n",
            "Product Design      7962\n",
            "Tabletop Games      7866\n",
            "Shorts              6673\n",
            "Music               6432\n",
            "Documentary         5924\n",
            "Theater             4405\n",
            "Indie Rock          3618\n",
            "Rock                3500\n",
            "Art                 3385\n",
            "Food                3297\n",
            "Film & Video        3070\n",
            "Country & Folk      2812\n",
            "Comics              2506\n",
            "Video Games         2386\n",
            "Children's Books    2348\n",
            "Fiction             2233\n",
            "Nonfiction          2230\n",
            "Fashion             2188\n",
            "Narrative Film      2013\n",
            "Photography         1876\n",
            "Name: category, dtype: int64\n"
          ],
          "name": "stdout"
        },
        {
          "output_type": "display_data",
          "data": {
            "image/png": "[encoded data removed]",
            "text/plain": [
              "<Figure size 432x288 with 1 Axes>"
            ]
          },
          "metadata": {
            "tags": []
          }
        }
      ]
    },
    {
      "cell_type": "code",
      "metadata": {
        "id": "am60fFd8DwLP",
        "colab_type": "code",
        "outputId": "887af46d-834d-44a0-fd3a-0dfe63639c06",
        "colab": {
          "base_uri": "https://localhost:8080/",
          "height": 554
        }
      },
      "source": [
        "principais_moedas = df[\"currency\"].value_counts()\n",
        "print(\"Nro. de Moedas\")\n",
        "print(principais_moedas)\n",
        "\n",
        "principais_moedas.plot.bar(color = color)\n",
        "plt.show()"
      ],
      "execution_count": 0,
      "outputs": [
        {
          "output_type": "stream",
          "text": [
            "Nro. de Moedas\n",
            "USD    295365\n",
            "GBP     34132\n",
            "EUR     17405\n",
            "CAD     14962\n",
            "AUD      7950\n",
            "SEK      1788\n",
            "MXN      1752\n",
            "NZD      1475\n",
            "DKK      1129\n",
            "CHF       768\n",
            "NOK       722\n",
            "HKD       618\n",
            "SGD       555\n",
            "JPY        40\n",
            "Name: currency, dtype: int64\n"
          ],
          "name": "stdout"
        },
        {
          "output_type": "display_data",
          "data": {
            "image/png": "[encoded data removed]",
            "text/plain": [
              "<Figure size 432x288 with 1 Axes>"
            ]
          },
          "metadata": {
            "tags": []
          }
        }
      ]
    },
    {
      "cell_type": "code",
      "metadata": {
        "id": "Yr35XgsrI8tB",
        "colab_type": "code",
        "outputId": "c9e20166-16b0-4c72-fa3a-39665c35afb3",
        "colab": {
          "base_uri": "https://localhost:8080/",
          "height": 705
        }
      },
      "source": [
        "principais_paises = df[\"country\"].value_counts()\n",
        "print(\"Nro. de Países\")\n",
        "print(principais_paises)\n",
        "\n",
        "principais_paises.plot.bar(color = color)\n",
        "plt.show()"
      ],
      "execution_count": 0,
      "outputs": [
        {
          "output_type": "stream",
          "text": [
            "Nro. de Países\n",
            "US      292627\n",
            "GB       33672\n",
            "CA       14756\n",
            "AU        7839\n",
            "DE        4171\n",
            "N,0\"      3797\n",
            "FR        2939\n",
            "IT        2878\n",
            "NL        2868\n",
            "ES        2276\n",
            "SE        1757\n",
            "MX        1752\n",
            "NZ        1447\n",
            "DK        1113\n",
            "IE         811\n",
            "CH         761\n",
            "NO         708\n",
            "HK         618\n",
            "BE         617\n",
            "AT         597\n",
            "SG         555\n",
            "LU          62\n",
            "JP          40\n",
            "Name: country, dtype: int64\n"
          ],
          "name": "stdout"
        },
        {
          "output_type": "display_data",
          "data": {
            "image/png": "[encoded data removed]",
            "text/plain": [
              "<Figure size 432x288 with 1 Axes>"
            ]
          },
          "metadata": {
            "tags": []
          }
        }
      ]
    },
    {
      "cell_type": "code",
      "metadata": {
        "id": "UZbnjsUvLbuK",
        "colab_type": "code",
        "outputId": "cbb9ba9d-a365-4649-826c-6322f87140d1",
        "colab": {
          "base_uri": "https://localhost:8080/",
          "height": 449
        }
      },
      "source": [
        "principais_resultados = df[\"state\"].value_counts()\n",
        "print(\"Nro. de Projetos por Status\")\n",
        "print(principais_resultados)\n",
        "\n",
        "principais_resultados.plot.bar(color = color)\n",
        "plt.show()"
      ],
      "execution_count": 0,
      "outputs": [
        {
          "output_type": "stream",
          "text": [
            "Nro. de Projetos por Status\n",
            "failed        197719\n",
            "successful    133956\n",
            "canceled       38779\n",
            "undefined       3562\n",
            "live            2799\n",
            "suspended       1846\n",
            "Name: state, dtype: int64\n"
          ],
          "name": "stdout"
        },
        {
          "output_type": "display_data",
          "data": {
            "image/png": "[encoded data removed]",
            "text/plain": [
              "<Figure size 432x288 with 1 Axes>"
            ]
          },
          "metadata": {
            "tags": []
          }
        }
      ]
    },
    {
      "cell_type": "markdown",
      "metadata": {
        "id": "ToCt9McQvNQF",
        "colab_type": "text"
      },
      "source": [
        "# Preparação dos Dados\n",
        "\n",
        "Neste momento, é realizada a preparação dos dados antes de executar o modelo utilizado. A preparação é um dos momentos mais importantes ao realizar um modelo, isto porque sem ela, haveria inconsisências nos dados, deixando-os imprecisos. Sem o processo de preparação, o nível de precisão da classificação ficará comprometido."
      ]
    },
    {
      "cell_type": "code",
      "metadata": {
        "id": "8ieIs7mavKZG",
        "colab_type": "code",
        "outputId": "7f14c6c3-3042-4a7b-c568-891bd162b584",
        "colab": {
          "base_uri": "https://localhost:8080/",
          "height": 51
        }
      },
      "source": [
        "print(\"Retirando os status 'undefined' e 'live' do model...\")\n",
        "df = df[df[\"state\"].isin([\"failed\", \"canceled\", \"successful\", \"suspended\"])].copy()\n",
        "print(df.shape)"
      ],
      "execution_count": 0,
      "outputs": [
        {
          "output_type": "stream",
          "text": [
            "Retirando os status 'undefined' e 'live' do model...\n",
            "(372300, 10)\n"
          ],
          "name": "stdout"
        }
      ]
    },
    {
      "cell_type": "code",
      "metadata": {
        "id": "PI1-ss4nAyBl",
        "colab_type": "code",
        "outputId": "cac6cf74-b91a-4178-cf54-6f81a72b244f",
        "colab": {
          "base_uri": "https://localhost:8080/",
          "height": 51
        }
      },
      "source": [
        "print(\"Deletando colunas que não usaremos...\")\n",
        "df = df.drop('ID', 1)\n",
        "df = df.drop('name', 1)\n",
        "df = df.drop('usd pledged', 1)\n",
        "df = df.drop('usd_pledged_real', 1)\n",
        "df = df.drop('backers', 1)\n",
        "\n",
        "print(df.shape)"
      ],
      "execution_count": 0,
      "outputs": [
        {
          "output_type": "stream",
          "text": [
            "Deletando colunas que não usaremos...\n",
            "(372300, 10)\n"
          ],
          "name": "stdout"
        }
      ]
    },
    {
      "cell_type": "code",
      "metadata": {
        "id": "pMCKFKfGA9vY",
        "colab_type": "code",
        "outputId": "8d3d6572-d5b1-4e40-9958-64191d78ac7e",
        "colab": {
          "base_uri": "https://localhost:8080/",
          "height": 34
        }
      },
      "source": [
        "print(\"Cria uma nova coluna chamada 'duration_days' que é 'deadline' - 'launched'\")\n",
        "df['launched'] = pd.to_datetime(df['launched'])\n",
        "df['deadline'] = pd.to_datetime(df['deadline'])\n",
        "df['duration_days'] = df['deadline'].subtract(df['launched'])\n",
        "df['duration_days'] = df['duration_days'].astype('timedelta64[D]')"
      ],
      "execution_count": 101,
      "outputs": [
        {
          "output_type": "stream",
          "text": [
            "Cria uma nova coluna chamada 'duration_days' que é 'deadline' - 'launched'\n"
          ],
          "name": "stdout"
        }
      ]
    },
    {
      "cell_type": "code",
      "metadata": {
        "id": "m9l50LR3KG7x",
        "colab_type": "code",
        "colab": {
          "base_uri": "https://localhost:8080/",
          "height": 34
        },
        "outputId": "e162be3e-fd69-40ea-ee34-36fe8d78ad82"
      },
      "source": [
        "print(\"Deletando colunas: launched, deadline and pledged\")\n",
        "df = df.drop('launched', 1)\n",
        "df = df.drop('deadline', 1)\n",
        "df = df.drop('pledged', 1)"
      ],
      "execution_count": 102,
      "outputs": [
        {
          "output_type": "stream",
          "text": [
            "(372300, 11)\n"
          ],
          "name": "stdout"
        }
      ]
    },
    {
      "cell_type": "code",
      "metadata": {
        "id": "Tou4gTbzUtzb",
        "colab_type": "code",
        "colab": {}
      },
      "source": [
        "#antes de eliminar boa parte dos outliers\n",
        "import seaborn as sns\n",
        "sns.boxplot(x=df['goal'])"
      ],
      "execution_count": 0,
      "outputs": []
    },
    {
      "cell_type": "code",
      "metadata": {
        "id": "Gt6TvB2wOsOL",
        "colab_type": "code",
        "colab": {
          "base_uri": "https://localhost:8080/",
          "height": 34
        },
        "outputId": "6ffcf235-3a57-4b5f-bcd0-ed64d35be8b8"
      },
      "source": [
        "#tirando os outliers\n",
        "df = df[(df['goal'] <= 100000) & (df['goal'] >= 1000)].copy()\n",
        "df.shape"
      ],
      "execution_count": 104,
      "outputs": [
        {
          "output_type": "execute_result",
          "data": {
            "text/plain": [
              "(312635, 11)"
            ]
          },
          "metadata": {
            "tags": []
          },
          "execution_count": 104
        }
      ]
    },
    {
      "cell_type": "code",
      "metadata": {
        "id": "s9gsqs60S0S4",
        "colab_type": "code",
        "colab": {
          "base_uri": "https://localhost:8080/",
          "height": 300
        },
        "outputId": "b0b0a624-22a9-418c-95d0-32cc209fdc34"
      },
      "source": [
        "#depois de eliminar boa parte dos outliers\n",
        "import seaborn as sns\n",
        "sns.boxplot(x=df['goal'])"
      ],
      "execution_count": 105,
      "outputs": [
        {
          "output_type": "execute_result",
          "data": {
            "text/plain": [
              "<matplotlib.axes._subplots.AxesSubplot at 0x7f2f7d87ddd8>"
            ]
          },
          "metadata": {
            "tags": []
          },
          "execution_count": 105
        },
        {
          "output_type": "display_data",
          "data": {
            "image/png": "[encoded data removed]",
            "text/plain": [
              "<Figure size 432x288 with 1 Axes>"
            ]
          },
          "metadata": {
            "tags": []
          }
        }
      ]
    },
    {
      "cell_type": "code",
      "metadata": {
        "id": "NhtyIpbUVDX0",
        "colab_type": "code",
        "colab": {}
      },
      "source": [
        ""
      ],
      "execution_count": 0,
      "outputs": []
    }
  ]
}